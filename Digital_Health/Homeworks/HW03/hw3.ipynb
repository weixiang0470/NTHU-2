{
 "cells": [
  {
   "cell_type": "code",
   "execution_count": null,
   "id": "6c2ec8bc",
   "metadata": {},
   "outputs": [],
   "source": [
    "import pandas as pd\n",
    "from sklearn.metrics import (accuracy_score, recall_score, precision_score, \n",
    "                            f1_score, roc_auc_score, confusion_matrix)\n",
    "import seaborn as sns\n",
    "import matplotlib.pyplot as plt\n",
    "import numpy as np\n",
    "import random\n",
    "\n",
    "random.seed(42)\n",
    "\n",
    "np.random.seed(42)\n",
    "def plot_confusion_matrix(y_true, y_pred):\n",
    "    cm = confusion_matrix(y_true, y_pred)\n",
    "    sns.heatmap(cm, annot=True, fmt='d', cmap='Blues', \n",
    "                xticklabels=['Survived', 'Died'], \n",
    "                yticklabels=['Survived', 'Died'])\n",
    "    plt.xlabel('Predicted')\n",
    "    plt.ylabel('Actual')\n",
    "    plt.title('Confusion Matrix')\n",
    "    plt.show()\n",
    "\n",
    "def evaluate_model(y_true, y_pred, y_proba):\n",
    "    metrics = {\n",
    "        'Accuracy' : accuracy_score(y_true, y_pred),\n",
    "        'Sensitivity (Recall)': recall_score(y_true, y_pred), \n",
    "        'Specificity': confusion_matrix(y_true, y_pred)[0,0] / (confusion_matrix(y_true, y_pred)[0,0] + confusion_matrix(y_true, y_pred)[0,1]),  # 特异度\n",
    "        'Precision': precision_score(y_true, y_pred),\n",
    "        'F1-Score': f1_score(y_true, y_pred),\n",
    "        'AUC-ROC': roc_auc_score(y_true, y_proba)\n",
    "    }\n",
    "    return pd.DataFrame.from_dict(metrics, orient='index', columns=['Value'])"
   ]
  },
  {
   "cell_type": "code",
   "execution_count": null,
   "id": "498fa655",
   "metadata": {},
   "outputs": [],
   "source": [
    "'''\n",
    "Import dataset\n",
    "'''\n",
    "df = pd.read_csv('df_original.csv')\n",
    "df_clean = pd.read_csv('df_clean.csv')"
   ]
  },
  {
   "cell_type": "code",
   "execution_count": null,
   "id": "ba6ec77e",
   "metadata": {},
   "outputs": [],
   "source": [
    "df_clean"
   ]
  },
  {
   "cell_type": "code",
   "execution_count": null,
   "id": "38987688",
   "metadata": {},
   "outputs": [],
   "source": [
    "'''\n",
    "Drop id from dataset\n",
    "'''\n",
    "new_df = df_clean.drop(columns=['subject_id', 'hadm_id', 'stay_id'])"
   ]
  },
  {
   "cell_type": "code",
   "execution_count": null,
   "id": "65e1653a",
   "metadata": {},
   "outputs": [],
   "source": [
    "new_df"
   ]
  },
  {
   "cell_type": "code",
   "execution_count": null,
   "id": "82376d15",
   "metadata": {},
   "outputs": [],
   "source": [
    "'''\n",
    "Check class balance\n",
    "'''\n",
    "print(new_df['in_hospital_mortality'].value_counts()) "
   ]
  },
  {
   "cell_type": "markdown",
   "id": "ceb1fab8",
   "metadata": {},
   "source": [
    "## Do sampling for data imbalance"
   ]
  },
  {
   "cell_type": "code",
   "execution_count": null,
   "id": "b454a134",
   "metadata": {},
   "outputs": [],
   "source": [
    "from imblearn.over_sampling import SMOTE\n",
    "\n",
    "X = new_df.drop('in_hospital_mortality', axis=1)\n",
    "y = new_df['in_hospital_mortality']\n",
    "\n",
    "smote = SMOTE(random_state=42)\n",
    "X_res, y_res = smote.fit_resample(X, y)"
   ]
  },
  {
   "cell_type": "markdown",
   "id": "09e8a9da",
   "metadata": {},
   "source": [
    "## Standardalize"
   ]
  },
  {
   "cell_type": "code",
   "execution_count": null,
   "id": "12d8f5c6",
   "metadata": {},
   "outputs": [],
   "source": [
    "num_cols = X_res.keys()"
   ]
  },
  {
   "cell_type": "code",
   "execution_count": null,
   "id": "ba786398",
   "metadata": {},
   "outputs": [],
   "source": [
    "num_cols"
   ]
  },
  {
   "cell_type": "code",
   "execution_count": null,
   "id": "afccb072",
   "metadata": {},
   "outputs": [],
   "source": [
    "from sklearn.preprocessing import StandardScaler\n",
    "\n",
    "scaler = StandardScaler()\n",
    "X_res[num_cols] = scaler.fit_transform(X_res[num_cols])"
   ]
  },
  {
   "cell_type": "code",
   "execution_count": null,
   "id": "18a1510b",
   "metadata": {},
   "outputs": [],
   "source": [
    "X_res"
   ]
  },
  {
   "cell_type": "code",
   "execution_count": null,
   "id": "1eef9817",
   "metadata": {},
   "outputs": [],
   "source": [
    "X_res['gender'] = X_res['gender'].apply(lambda x: 1 if x >= 0.5 else -1)"
   ]
  },
  {
   "cell_type": "code",
   "execution_count": null,
   "id": "b85ec021",
   "metadata": {},
   "outputs": [],
   "source": [
    "import pandas as pd\n",
    "from sklearn.model_selection import train_test_split\n",
    "from sklearn.metrics import roc_auc_score\n",
    "\n",
    "X = X_res\n",
    "y = y_res\n",
    "X_train, X_test, y_train, y_test = train_test_split(X, y, test_size=0.2, stratify=y)"
   ]
  },
  {
   "cell_type": "code",
   "execution_count": null,
   "id": "71f424c6",
   "metadata": {},
   "outputs": [],
   "source": [
    "from sklearn.ensemble import RandomForestClassifier\n",
    "from xgboost import XGBClassifier\n",
    "from sklearn.linear_model import LogisticRegression\n",
    "\n",
    "models = {\n",
    "    \"Random Forest\": RandomForestClassifier(class_weight='balanced'),\n",
    "    \"XGBoost\": XGBClassifier(scale_pos_weight=1),\n",
    "    \"Logistic Regression\": LogisticRegression(class_weight='balanced')\n",
    "}"
   ]
  },
  {
   "cell_type": "code",
   "execution_count": null,
   "id": "14e999ca",
   "metadata": {},
   "outputs": [],
   "source": [
    "from sklearn.model_selection import cross_val_score\n",
    "\n",
    "for name, model in models.items():\n",
    "    scores = cross_val_score(model, X_train, y_train, cv=10, scoring='roc_auc')\n",
    "    print(f\"{name} AUC: {scores.mean():.3f} (±{scores.std():.3f})\")"
   ]
  },
  {
   "cell_type": "code",
   "execution_count": null,
   "id": "f813e1e1",
   "metadata": {},
   "outputs": [],
   "source": [
    "model = XGBClassifier(\n",
    "    scale_pos_weight=sum(y==0)/sum(y==1), \n",
    "    eval_metric='auc',\n",
    "    n_estimators=200,\n",
    "    max_depth=5,\n",
    "    learning_rate=0.1\n",
    ")\n",
    "model.fit(X_train, y_train)\n",
    "\n",
    "y_pred = model.predict(X_test)\n",
    "y_proba = model.predict_proba(X_test)[:,1]\n",
    "\n",
    "print(evaluate_model(y_test,y_pred,y_proba))\n",
    "\n",
    "pd.DataFrame({\n",
    "    'feature': X.columns,\n",
    "    'importance': model.feature_importances_\n",
    "}).sort_values('importance', ascending=False)\n"
   ]
  },
  {
   "cell_type": "code",
   "execution_count": null,
   "id": "847b761b",
   "metadata": {},
   "outputs": [],
   "source": [
    "plot_confusion_matrix(y_test, y_pred)"
   ]
  },
  {
   "cell_type": "code",
   "execution_count": null,
   "id": "da9bfb6c",
   "metadata": {},
   "outputs": [],
   "source": [
    "from sklearn.metrics import classification_report, roc_curve\n",
    "\n",
    "print(classification_report(y_test, y_pred))\n",
    "fpr, tpr, _ = roc_curve(y_test, y_proba)\n",
    "plt.plot(fpr, tpr, label=f'AUC = {roc_auc_score(y_test, y_proba):.2f}')\n",
    "plt.plot([0, 1], [0, 1], linestyle='--')\n",
    "plt.xlabel('False Positive Rate')\n",
    "plt.ylabel('True Positive Rate')\n",
    "plt.title('ROC Curve')\n",
    "plt.legend()\n",
    "plt.show()"
   ]
  },
  {
   "cell_type": "code",
   "execution_count": null,
   "id": "74c9df84",
   "metadata": {},
   "outputs": [],
   "source": [
    "from sklearn.calibration import calibration_curve\n",
    "\n",
    "# Compute calibration curve\n",
    "prob_true, prob_pred = calibration_curve(y_test, y_proba, n_bins=10, strategy='quantile')\n",
    "\n",
    "# Plot\n",
    "plt.figure(figsize=(6, 6))\n",
    "plt.plot(prob_pred, prob_true, marker='o', label='Model')\n",
    "plt.plot([0, 1], [0, 1], linestyle='--', label='Perfectly calibrated')\n",
    "plt.xlabel('Predicted probability')\n",
    "plt.ylabel('Observed frequency')\n",
    "plt.title('Calibration Plot')\n",
    "plt.legend()\n",
    "plt.grid(True)\n",
    "plt.show()"
   ]
  },
  {
   "cell_type": "code",
   "execution_count": null,
   "id": "4ff86c2d",
   "metadata": {},
   "outputs": [],
   "source": [
    "import shap\n",
    "\n",
    "explainer = shap.TreeExplainer(model)\n",
    "shap_values = explainer.shap_values(X_res)\n",
    "shap.summary_plot(shap_values, X_res)"
   ]
  },
  {
   "cell_type": "code",
   "execution_count": null,
   "id": "7e3f6a80",
   "metadata": {},
   "outputs": [],
   "source": [
    "from xgboost import XGBClassifier\n",
    "from sklearn.model_selection import RandomizedSearchCV\n",
    "import scipy.stats as stats\n",
    "\n",
    "param_dist = {\n",
    "    'eval_metric' : ['auc'],\n",
    "    'n_estimators' : stats.randint(50,500),\n",
    "    'learning_rate': stats.uniform(0.01, 0.3),\n",
    "    'max_depth': stats.randint(3,13),\n",
    "    'min_child_weight': stats.randint(1, 11),\n",
    "    'subsample': stats.uniform(0.5, 0.5),\n",
    "    'colsample_bytree': stats.uniform(0.5, 0.5),\n",
    "    'gamma': stats.uniform(0, 0.5),\n",
    "    'scale_pos_weight': [sum(y==0)/sum(y==1)] \n",
    "}"
   ]
  },
  {
   "cell_type": "code",
   "execution_count": null,
   "id": "699b0c4f",
   "metadata": {},
   "outputs": [],
   "source": [
    "X_train"
   ]
  },
  {
   "cell_type": "code",
   "execution_count": null,
   "id": "109ef922",
   "metadata": {},
   "outputs": [],
   "source": [
    "model = XGBClassifier(random_state=42)\n",
    "search = RandomizedSearchCV(\n",
    "    estimator=model,\n",
    "    param_distributions=param_dist,\n",
    "    n_iter=5000,\n",
    "    scoring='roc_auc',\n",
    "    cv=10,\n",
    "    verbose=2,\n",
    "    n_jobs=-1\n",
    ")\n",
    "search.fit(X_train, y_train)"
   ]
  },
  {
   "cell_type": "code",
   "execution_count": null,
   "id": "efe94185",
   "metadata": {},
   "outputs": [],
   "source": [
    "best_model = search.best_estimator_\n",
    "print(\"Best params:\", search.best_params_)"
   ]
  },
  {
   "cell_type": "code",
   "execution_count": null,
   "id": "78d6b2a0",
   "metadata": {},
   "outputs": [],
   "source": [
    "y_pred = best_model.predict(X_test)\n",
    "y_proba = best_model.predict_proba(X_test)[:, 1]\n",
    "\n",
    "print(evaluate_model(y_test, y_pred, y_proba))\n",
    "\n",
    "pd.DataFrame({\n",
    "    'feature': X_train.columns,\n",
    "    'importance': best_model.feature_importances_\n",
    "}).sort_values('importance', ascending=False)"
   ]
  },
  {
   "cell_type": "code",
   "execution_count": null,
   "id": "436a3c79",
   "metadata": {},
   "outputs": [],
   "source": [
    "plot_confusion_matrix(y_test, y_pred)"
   ]
  },
  {
   "cell_type": "code",
   "execution_count": null,
   "id": "3ed15e4f",
   "metadata": {},
   "outputs": [],
   "source": [
    "from sklearn.metrics import classification_report, roc_curve\n",
    "\n",
    "print(classification_report(y_test, y_pred))\n",
    "fpr, tpr, _ = roc_curve(y_test, y_proba)\n",
    "plt.plot(fpr, tpr, label=f'AUC = {roc_auc_score(y_test, y_proba):.2f}')\n",
    "plt.plot([0, 1], [0, 1], linestyle='--')\n",
    "plt.xlabel('False Positive Rate')\n",
    "plt.ylabel('True Positive Rate')\n",
    "plt.title('ROC Curve')\n",
    "plt.legend()\n",
    "plt.show()"
   ]
  },
  {
   "cell_type": "code",
   "execution_count": null,
   "id": "cf7c3ab1",
   "metadata": {},
   "outputs": [],
   "source": [
    "pd.DataFrame({\n",
    "    'Feature': X.columns,\n",
    "    'Importance': best_model.feature_importances_\n",
    "}).sort_values('Importance', ascending=False)"
   ]
  },
  {
   "cell_type": "code",
   "execution_count": null,
   "id": "041b45fb",
   "metadata": {},
   "outputs": [],
   "source": [
    "import shap\n",
    "explainer = shap.TreeExplainer(best_model)\n",
    "shap_values = explainer.shap_values(X_test)\n",
    "shap.summary_plot(shap_values, X_test)"
   ]
  },
  {
   "cell_type": "code",
   "execution_count": null,
   "id": "fbed9f89",
   "metadata": {},
   "outputs": [],
   "source": [
    "from sklearn.calibration import calibration_curve\n",
    "\n",
    "# Compute calibration curve\n",
    "prob_true, prob_pred = calibration_curve(y_test, y_proba, n_bins=10, strategy='quantile')\n",
    "\n",
    "# Plot\n",
    "plt.figure(figsize=(6, 6))\n",
    "plt.plot(prob_pred, prob_true, marker='o', label='Model')\n",
    "plt.plot([0, 1], [0, 1], linestyle='--', label='Perfectly calibrated')\n",
    "plt.xlabel('Predicted probability')\n",
    "plt.ylabel('Observed frequency')\n",
    "plt.title('Calibration Plot')\n",
    "plt.legend()\n",
    "plt.grid(True)\n",
    "plt.show()"
   ]
  },
  {
   "cell_type": "markdown",
   "id": "22e6523b",
   "metadata": {},
   "source": [
    "# Fairness analysis"
   ]
  },
  {
   "cell_type": "code",
   "execution_count": null,
   "id": "d3df1ad7",
   "metadata": {},
   "outputs": [],
   "source": [
    "X_test_male = X_test[X_test['gender'] == 1]\n",
    "y_test_male = y_test[X_test['gender'] == 1]\n",
    "\n",
    "X_test_female = X_test[X_test['gender'] == -1]\n",
    "y_test_female = y_test[X_test['gender'] == -1]"
   ]
  },
  {
   "cell_type": "code",
   "execution_count": null,
   "id": "8b312504",
   "metadata": {},
   "outputs": [],
   "source": [
    "y_pred_male = best_model.predict(X_test_male)\n",
    "y_pred_female = best_model.predict(X_test_female)\n",
    "\n",
    "y_prob_male = best_model.predict_proba(X_test_male)[:, 1]\n",
    "y_prob_female = best_model.predict_proba(X_test_female)[:, 1]"
   ]
  },
  {
   "cell_type": "code",
   "execution_count": null,
   "id": "02352a76",
   "metadata": {},
   "outputs": [],
   "source": [
    "print(\"Male group performance:\")\n",
    "print(evaluate_model(y_test_male, y_pred_male, y_prob_male))\n",
    "\n",
    "print(\"\\nFemale group performance:\")\n",
    "print(evaluate_model(y_test_female, y_pred_female, y_prob_female))\n"
   ]
  },
  {
   "cell_type": "code",
   "execution_count": null,
   "id": "908eccba",
   "metadata": {},
   "outputs": [],
   "source": [
    "'''\n",
    "Demographic Parity:\n",
    "DP: (TP + FP)/Total\n",
    "\n",
    "Equality of Opportunity: (Recall) \n",
    "TPR: TP / (TP + FN)\n",
    "\n",
    "Equality of Odds:\n",
    "FNR: FN / (TP + FN)\n",
    "FPR: FP / (FP + TN)\n",
    "'''\n",
    "\n",
    "from sklearn.metrics import confusion_matrix\n",
    "\n",
    "print(f\"F/M ratio: {X_train['gender'].value_counts()[-1]}/{X_train['gender'].value_counts()[1]}\")\n",
    "\n",
    "print(\"Male group:\")\n",
    "# print(evaluate_model(y_test_male, y_pred_male, y_prob_male))\n",
    "tn, fp, fn, tp = confusion_matrix(y_test_male, y_pred_male).ravel()\n",
    "total_samples = len(y_test_male)\n",
    "dp = (tp + fp) / total_samples\n",
    "\n",
    "print(f\"Detection Prevalence (DP): {dp:.4f}\")\n",
    "print(f\"Equality of Opportunity: (Recall) {tp/(tp+fn):.4f}\")\n",
    "print(f\"Equiality of Odds:\\n \\\n",
    "      FNR: {fn/(tp+fn):.4f}\\n \\\n",
    "      FPR: {fp/(fp+tn):.4f} \\\n",
    "      \")\n",
    "\n",
    "\n",
    "\n",
    "print(\"\\nFemale group:\")\n",
    "# print(evaluate_model(y_test_female, y_pred_female, y_prob_female))\n",
    "tn, fp, fn, tp = confusion_matrix(y_test_female, y_pred_female).ravel()\n",
    "\n",
    "\n",
    "total_samples = len(y_test_female)\n",
    "dp = (tp + fp) / total_samples\n",
    "\n",
    "print(f\"Detection Prevalence (DP): {dp:.4f}\")\n",
    "print(f\"Equality of Opportunity: (Recall) {tp/(tp+fn):.4f}\")\n",
    "print(f\"Equiality of Odds:\\n \\\n",
    "      FNR: {fn/(tp+fn):.4f}\\n \\\n",
    "      FPR: {fp/(fp+tn):.4f} \\\n",
    "      \")"
   ]
  },
  {
   "cell_type": "markdown",
   "id": "e1798da0",
   "metadata": {},
   "source": [
    "# Ablation study "
   ]
  },
  {
   "cell_type": "code",
   "execution_count": null,
   "id": "37b9a65c",
   "metadata": {},
   "outputs": [],
   "source": [
    "X = new_df.drop('in_hospital_mortality', axis=1)\n",
    "y = new_df['in_hospital_mortality']\n",
    "\n",
    "X_train, X_test, y_train, y_test = train_test_split(X, y, test_size=0.2, stratify=y, random_state=42)"
   ]
  },
  {
   "cell_type": "code",
   "execution_count": null,
   "id": "31b04435",
   "metadata": {},
   "outputs": [],
   "source": [
    "test_model = XGBClassifier(\n",
    "    colsample_bytree=np.float64(0.7204789960803597), \n",
    "    eval_metric= 'auc', \n",
    "    gamma=np.float64(0.0028207188158109187), \n",
    "    learning_rate=np.float64(0.09624593233299222), \n",
    "    max_depth=10, \n",
    "    min_child_weight=1, \n",
    "    n_estimators=494, \n",
    "    scale_pos_weight=sum(y==0)/sum(y==1), \n",
    "    subsample=np.float64(0.8661020114176173)\n",
    ")\n",
    "test_model2 = XGBClassifier(\n",
    "    colsample_bytree=np.float64(0.7204789960803597), \n",
    "    eval_metric= 'auc', \n",
    "    gamma=np.float64(0.0028207188158109187), \n",
    "    learning_rate=np.float64(0.09624593233299222), \n",
    "    max_depth=10, \n",
    "    min_child_weight=1, \n",
    "    n_estimators=494, \n",
    "    scale_pos_weight=1, \n",
    "    subsample=np.float64(0.8661020114176173)\n",
    ")\n",
    "test_model.fit(X_train,y_train)\n",
    "test_model2.fit(X_train,y_train)"
   ]
  },
  {
   "cell_type": "code",
   "execution_count": null,
   "id": "0759b657",
   "metadata": {},
   "outputs": [],
   "source": [
    "y_pred = test_model.predict(X_test)\n",
    "y_proba = test_model.predict_proba(X_test)[:, 1]\n",
    "\n",
    "print(evaluate_model(y_test, y_pred, y_proba))\n",
    "Origin_AUC = roc_auc_score(y_test, y_proba)\n",
    "\n",
    "pd.DataFrame({\n",
    "    'feature': X.columns,\n",
    "    'importance': test_model.feature_importances_\n",
    "}).sort_values('importance', ascending=False)"
   ]
  },
  {
   "cell_type": "code",
   "execution_count": null,
   "id": "7fd80e44",
   "metadata": {},
   "outputs": [],
   "source": [
    "y_pred = test_model2.predict(X_test)\n",
    "y_proba = test_model2.predict_proba(X_test)[:, 1]\n",
    "\n",
    "print(evaluate_model(y_test, y_pred, y_proba))\n",
    "\n",
    "pd.DataFrame({\n",
    "    'feature': X.columns,\n",
    "    'importance': test_model2.feature_importances_\n",
    "}).sort_values('importance', ascending=False)"
   ]
  },
  {
   "cell_type": "code",
   "execution_count": null,
   "id": "242e499d",
   "metadata": {},
   "outputs": [],
   "source": [
    "X = X_res\n",
    "y = y_res\n",
    "X_train, X_test, y_train, y_test = train_test_split(X, y, test_size=0.2, stratify=y)\n",
    "\n",
    "best_model = XGBClassifier(\n",
    "    colsample_bytree=np.float64(0.7204789960803597), \n",
    "    eval_metric= 'auc', \n",
    "    gamma=np.float64(0.0028207188158109187), \n",
    "    learning_rate=np.float64(0.09624593233299222), \n",
    "    max_depth=10, \n",
    "    min_child_weight=1, \n",
    "    n_estimators=494, \n",
    "    scale_pos_weight=1, \n",
    "    subsample=np.float64(0.8661020114176173)\n",
    ")\n",
    "best_model.fit(X_train,y_train)\n",
    "y_pred = best_model.predict(X_test)\n",
    "y_proba = best_model.predict_proba(X_test)[:, 1]"
   ]
  },
  {
   "cell_type": "code",
   "execution_count": null,
   "id": "3836a6bf",
   "metadata": {},
   "outputs": [],
   "source": [
    "Origin_AUC = roc_auc_score(y_test, y_proba)\n",
    "print(f\"Original AUC = {Origin_AUC}\")\n",
    "all_col = X_train.columns\n",
    "increase_col = []\n",
    "decrease_col = []\n",
    "for col in all_col:\n",
    "    X_train_tmp = X_train.drop(col,axis=1)\n",
    "    X_test_tmp = X_test.drop(col,axis=1)\n",
    "    best_model = XGBClassifier(\n",
    "        colsample_bytree=np.float64(0.7204789960803597), \n",
    "        eval_metric= 'auc', \n",
    "        gamma=np.float64(0.0028207188158109187), \n",
    "        learning_rate=np.float64(0.09624593233299222), \n",
    "        max_depth=10, \n",
    "        min_child_weight=1, \n",
    "        n_estimators=494, \n",
    "        scale_pos_weight=1, \n",
    "        subsample=np.float64(0.8661020114176173)\n",
    "    )\n",
    "    best_model.fit(X_train_tmp,y_train)\n",
    "    y_pred = best_model.predict(X_test_tmp)\n",
    "    y_proba = best_model.predict_proba(X_test_tmp)[:, 1]\n",
    "\n",
    "    print(f\"Drop {col}, AUC-ROC: {roc_auc_score(y_test, y_proba)}\")\n",
    "    if(Origin_AUC - roc_auc_score(y_test, y_proba)>0.0000000000001):\n",
    "        decrease_col.append(col)\n",
    "    else:\n",
    "        increase_col.append(col)\n"
   ]
  },
  {
   "cell_type": "code",
   "execution_count": null,
   "id": "3e00fd7c",
   "metadata": {},
   "outputs": [],
   "source": [
    "print(\"Decrease:\\n\",decrease_col)\n",
    "print(\"Increase:\\n\",increase_col)"
   ]
  },
  {
   "cell_type": "code",
   "execution_count": null,
   "id": "56961158",
   "metadata": {},
   "outputs": [],
   "source": [
    "X_train_final = X_train.drop(increase_col,axis=1)\n",
    "X_test_final = X_test.drop(increase_col,axis=1)"
   ]
  },
  {
   "cell_type": "code",
   "execution_count": null,
   "id": "6a8c889c",
   "metadata": {},
   "outputs": [],
   "source": [
    "best_model = XGBClassifier(\n",
    "    colsample_bytree=np.float64(0.7204789960803597), \n",
    "    eval_metric= 'auc', \n",
    "    gamma=np.float64(0.0028207188158109187), \n",
    "    learning_rate=np.float64(0.09624593233299222), \n",
    "    max_depth=10, \n",
    "    min_child_weight=1, \n",
    "    n_estimators=494, \n",
    "    scale_pos_weight=1, \n",
    "    subsample=np.float64(0.8661020114176173)\n",
    ")\n",
    "best_model.fit(X_train_tmp,y_train)\n",
    "y_pred = best_model.predict(X_test_tmp)\n",
    "y_proba = best_model.predict_proba(X_test_tmp)[:, 1]\n",
    "\n",
    "print(evaluate_model(y_test, y_pred,y_proba))"
   ]
  },
  {
   "cell_type": "code",
   "execution_count": null,
   "id": "032c7cd1",
   "metadata": {},
   "outputs": [],
   "source": [
    "plot_confusion_matrix(y_test, y_pred)"
   ]
  },
  {
   "cell_type": "code",
   "execution_count": null,
   "id": "06ae4f30",
   "metadata": {},
   "outputs": [],
   "source": [
    "from sklearn.metrics import classification_report, roc_curve\n",
    "\n",
    "print(classification_report(y_test, y_pred))\n",
    "fpr, tpr, _ = roc_curve(y_test, y_proba)\n",
    "plt.plot(fpr, tpr, label=f'AUC = {roc_auc_score(y_test, y_proba):.2f}')\n",
    "plt.plot([0, 1], [0, 1], linestyle='--')\n",
    "plt.xlabel('False Positive Rate')\n",
    "plt.ylabel('True Positive Rate')\n",
    "plt.title('ROC Curve')\n",
    "plt.legend()\n",
    "plt.show()"
   ]
  },
  {
   "cell_type": "code",
   "execution_count": null,
   "id": "727b902b",
   "metadata": {},
   "outputs": [],
   "source": [
    "from sklearn.calibration import calibration_curve\n",
    "\n",
    "# Compute calibration curve\n",
    "prob_true, prob_pred = calibration_curve(y_test, y_proba, n_bins=10, strategy='quantile')\n",
    "\n",
    "# Plot\n",
    "plt.figure(figsize=(6, 6))\n",
    "plt.plot(prob_pred, prob_true, marker='o', label='Model')\n",
    "plt.plot([0, 1], [0, 1], linestyle='--', label='Perfectly calibrated')\n",
    "plt.xlabel('Predicted probability')\n",
    "plt.ylabel('Observed frequency')\n",
    "plt.title('Calibration Plot')\n",
    "plt.legend()\n",
    "plt.grid(True)\n",
    "plt.show()"
   ]
  },
  {
   "cell_type": "code",
   "execution_count": null,
   "id": "83058a8b",
   "metadata": {},
   "outputs": [],
   "source": [
    "import shap\n",
    "explainer = shap.TreeExplainer(best_model)\n",
    "shap_values = explainer.shap_values(X_test_tmp)\n",
    "shap.summary_plot(shap_values, X_test_tmp)"
   ]
  },
  {
   "cell_type": "code",
   "execution_count": null,
   "id": "bea31450",
   "metadata": {},
   "outputs": [],
   "source": []
  }
 ],
 "metadata": {
  "kernelspec": {
   "display_name": "nthu_ml",
   "language": "python",
   "name": "python3"
  },
  "language_info": {
   "codemirror_mode": {
    "name": "ipython",
    "version": 3
   },
   "file_extension": ".py",
   "mimetype": "text/x-python",
   "name": "python",
   "nbconvert_exporter": "python",
   "pygments_lexer": "ipython3",
   "version": "3.10.15"
  }
 },
 "nbformat": 4,
 "nbformat_minor": 5
}
