{
 "cells": [
  {
   "cell_type": "markdown",
   "metadata": {},
   "source": [
    "### Calculate all motif"
   ]
  },
  {
   "cell_type": "code",
   "execution_count": 94,
   "metadata": {},
   "outputs": [],
   "source": [
    "from itertools import combinations\n",
    "from myf import calculate_g_xt, calculate_f_jk\n",
    "\n",
    "def calculate_single_motif(profiles, gamma):\n",
    "    min_distance = float('inf')\n",
    "    best_pair = None\n",
    "\n",
    "    for (i, dp1), (j, dp2) in combinations(enumerate(profiles), 2):\n",
    "        distance = calculate_f_jk(dp1, dp2)\n",
    "        if distance < min_distance and distance < gamma:\n",
    "            min_distance = distance\n",
    "            best_pair = (i, j)\n",
    "    \n",
    "    if best_pair is None:\n",
    "        return None \n",
    "    \n",
    "    i, j = best_pair\n",
    "    dpx, dpy = profiles[i], profiles[j]\n",
    "    motif = [dpx,dpy]\n",
    "    #motif = [round((x + y) / 2, 2) for x, y in zip(dpx, dpy)] # choose average to represent motif\n",
    "    return {\n",
    "        \"motif\": motif,\n",
    "        \"pair_idx\": (i, j),\n",
    "        \"score\": round(min_distance, 2)\n",
    "    }\n",
    "\n",
    "def calculate_all_motifs(profiles, gamma, tau):\n",
    "    motifs = []\n",
    "    profiles = [tuple(dp) for dp in profiles]\n",
    "    remaining_profiles = profiles.copy()\n",
    "    count = 1\n",
    "    while True:\n",
    "        result = calculate_single_motif(remaining_profiles, gamma)\n",
    "        print(f\"all motifs : {result}\")\n",
    "        if result is None:\n",
    "            break \n",
    "        \n",
    "        motif_info = {\n",
    "            \"idx\" : count,\n",
    "            \"motif\" : result[\"motif\"],\n",
    "            \"pair_idx\" : result[\"pair_idx\"],\n",
    "            \"score\" : result[\"score\"]\n",
    "            }\n",
    "        motifs.append(motif_info)\n",
    "        i, j = motif_info[\"pair_idx\"]\n",
    "        dpx = remaining_profiles[i]\n",
    "        dpy = remaining_profiles[j]\n",
    "        min_distance = motif_info[\"score\"]\n",
    "        \n",
    "        to_remove = set()\n",
    "        to_remove.add(i)\n",
    "        to_remove.add(j)\n",
    "        \n",
    "        for idx, dp in enumerate(remaining_profiles):\n",
    "            if idx in to_remove:\n",
    "                continue\n",
    "            if (calculate_f_jk(dpx, dp) <= min_distance + tau or\n",
    "                calculate_f_jk(dpy, dp) <= min_distance + tau):\n",
    "                to_remove.add(idx)\n",
    "        \n",
    "        print(f\"To remove : {to_remove}\")\n",
    "        remaining_profiles = [dp for idx, dp in enumerate(remaining_profiles) if idx not in to_remove]\n",
    "    \n",
    "    return motifs\n"
   ]
  },
  {
   "cell_type": "code",
   "execution_count": 95,
   "metadata": {},
   "outputs": [
    {
     "name": "stdout",
     "output_type": "stream",
     "text": [
      "all motifs : {'motif': [(100, 120, 115), (100, 120, 110)], 'pair_idx': (0, 1), 'score': 5.0}\n",
      "To remove : {0, 1, 2}\n",
      "all motifs : {'motif': [(140, 60, 194), (150, 50, 200)], 'pair_idx': (0, 1), 'score': 15.36}\n",
      "To remove : {0, 1}\n",
      "all motifs : None\n",
      "Motif 1:\n",
      "  Represent motif: [(100, 120, 115), (100, 120, 110)]\n",
      "  ID of x_t : (0, 1)\n",
      "  Score : 5.0\n",
      "\n",
      "Motif 2:\n",
      "  Represent motif: [(140, 60, 194), (150, 50, 200)]\n",
      "  ID of x_t : (0, 1)\n",
      "  Score : 15.36\n",
      "\n"
     ]
    }
   ],
   "source": [
    "profiles = [\n",
    "    (100, 120, 115),    # dp0\n",
    "    (100, 120, 110),    # dp1\n",
    "    (110, 110, 110),    # dp2\n",
    "    (140, 60, 194),     # dp3\n",
    "    (150, 50, 200)      # dp4\n",
    "]\n",
    "\n",
    "gamma = 20\n",
    "tau = 10\n",
    "\n",
    "results = calculate_all_motifs(profiles, gamma, tau)\n",
    "\n",
    "for i, motif_info in enumerate(results):\n",
    "    print(f\"Motif {i+1}:\")\n",
    "    print(f\"  Represent motif: {motif_info['motif']}\")\n",
    "    print(f\"  ID of x_t : {motif_info['pair_idx']}\")\n",
    "    print(f\"  Score : {motif_info['score']}\\n\")"
   ]
  },
  {
   "cell_type": "code",
   "execution_count": 96,
   "metadata": {},
   "outputs": [],
   "source": [
    "def calculate_label_dpk(motifs,dpk,tau):\n",
    "    min_score = float('inf')\n",
    "    best_pair = None\n",
    "\n",
    "    for i, motif_info in enumerate(motifs):\n",
    "        for j, dp in enumerate(motif_info['motif']):\n",
    "            score = calculate_f_jk(dpk, dp)\n",
    "            if score < min_score and score <= (motif_info['score'] + tau):\n",
    "                min_score = score\n",
    "                best_pair = (i, j)\n",
    "    \n",
    "    if best_pair is None:\n",
    "        return None \n",
    "    \n",
    "    i, j = best_pair\n",
    "    print(motifs[i])\n",
    "    dpk_info = {\n",
    "        \"dpk\" : dpk,\n",
    "        \"label\" : motifs[i][\"idx\"],\n",
    "        \"from\" : motifs[i]['motif'][j]\n",
    "        }\n",
    "    \n",
    "    return dpk_info\n",
    "    "
   ]
  },
  {
   "cell_type": "code",
   "execution_count": 97,
   "metadata": {},
   "outputs": [
    {
     "name": "stdout",
     "output_type": "stream",
     "text": [
      "{'idx': 1, 'motif': [(140, 60, 194), (150, 50, 200)], 'pair_idx': (0, 1), 'score': 15.36}\n"
     ]
    }
   ],
   "source": [
    "dpk = (130, 65, 190)\n",
    "\n",
    "label = calculate_label_dpk(results,dpk,tau)"
   ]
  },
  {
   "cell_type": "code",
   "execution_count": 98,
   "metadata": {},
   "outputs": [
    {
     "name": "stdout",
     "output_type": "stream",
     "text": [
      "{'dpk': (130, 65, 190), 'label': 1, 'from': (140, 60, 194)}\n"
     ]
    }
   ],
   "source": [
    "print(label)"
   ]
  },
  {
   "cell_type": "code",
   "execution_count": 78,
   "metadata": {},
   "outputs": [],
   "source": []
  },
  {
   "cell_type": "code",
   "execution_count": null,
   "metadata": {},
   "outputs": [],
   "source": []
  },
  {
   "cell_type": "code",
   "execution_count": null,
   "metadata": {},
   "outputs": [],
   "source": []
  }
 ],
 "metadata": {
  "kernelspec": {
   "display_name": "nthu_ml",
   "language": "python",
   "name": "python3"
  },
  "language_info": {
   "codemirror_mode": {
    "name": "ipython",
    "version": 3
   },
   "file_extension": ".py",
   "mimetype": "text/x-python",
   "name": "python",
   "nbconvert_exporter": "python",
   "pygments_lexer": "ipython3",
   "version": "3.10.15"
  }
 },
 "nbformat": 4,
 "nbformat_minor": 2
}
