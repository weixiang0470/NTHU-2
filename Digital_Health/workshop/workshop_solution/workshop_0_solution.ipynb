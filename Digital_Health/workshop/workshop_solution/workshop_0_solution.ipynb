{
 "cells": [
  {
   "cell_type": "markdown",
   "metadata": {
    "id": "WHeL3UVYDhBg"
   },
   "source": [
    "# Workshop 0️: Preparatory Materials"
   ]
  },
  {
   "cell_type": "markdown",
   "metadata": {
    "id": "Gg8JaMlqzKG7"
   },
   "source": [
    "### Background\n",
    "\n"
   ]
  },
  {
   "cell_type": "markdown",
   "metadata": {
    "id": "m8s5Z1KCzOji"
   },
   "source": [
    "​\n",
    "Pulse oximeters are medical devices used to assess peripheral arterial oxygen saturation ($SpO_2$) noninvasively. In contrast, the \"gold standard\" requires arterial blood to be drawn to measure the arterial oxygen saturation ($SaO_{2}$). Pulse oximeters currently on the market measure  in populations with darker skin tones with lower accuracy.\n",
    "\n",
    "Pulse oximetry inaccuracies can fail to detect episodes of hidden hypoxemia, i.e., low $SaO_{2}$ with high $SpO_2$. Hidden hypoxemias can result in less treatment and increased mortality. Yet flawed, pulse oximeters remain ubiquitously used because of their ease of use; debiasing the underlying algorithms could alleviate the downstream repercussions of hidden hypoxemia.\n",
    "\n",
    "​"
   ]
  },
  {
   "cell_type": "markdown",
   "metadata": {
    "id": "xAdeP8OgXUQR"
   },
   "source": [
    "## 1. Literature Review\n",
    "\n"
   ]
  },
  {
   "cell_type": "markdown",
   "metadata": {
    "id": "jVwBXCKAyrXA"
   },
   "source": [
    "Here is some recent literature that motivates this Case Study.\n",
    "\n",
    "A comprehensive living literature compilation has been put together by [Open Oximetry](https://openoximetry.org/publications/). Explore it, if you are curious to learn more!\n",
    "\n",
    "However, these 5 papers below are our main recommendations.\n",
    "\n",
    "You have a summary below, but can access the full articles in the\n",
    "[Google Drive Folder](https://drive.google.com/drive/folders/1fey9LDUynWk2ZgVKeFc9B2tfnrlyiR7c?usp=share_link).\n",
    "\n",
    "If you are short on time, we recommend the first 2-3 papers as a must read, and the other ones are optional. "
   ]
  },
  {
   "cell_type": "markdown",
   "metadata": {
    "id": "wtl2xfLTGBqY"
   },
   "source": [
    "### 🗎 [Paper 1](https://drive.google.com/file/d/14IirFD9SnVvmiD4W3KMXYmc2eQVwcSlB/view?usp=share_link) (letter)\n",
    "**Racial Bias in Pulse Oximetry Measurement**\n",
    "\n",
    "\n",
    "\n",
    "*This study of 48,097 pair of measures from University of Michigan report nearly three times more occult hypoxemia in Black patients compared to White patients. However, not all Black patients with pulse oxymetry of 92-96% had occult hypoxemia, with the correction factor not straightforward.*\n",
    "\n",
    "Sjoding MW, Dickson RP, Iwashyna TJ, Gay SE, Valley TS. Racial Bias in Pulse Oximetry Measurement. N Engl J Med. 2020 Dec 17;383(25):2477-2478. doi: 10.1056/NEJMc2029240. Erratum in: N Engl J Med. 2021 Dec 23;385(26):2496. PMID: 33326721; PMCID: PMC7808260. https://www.nejm.org/doi/10.1056/NEJMc2029240"
   ]
  },
  {
   "cell_type": "markdown",
   "metadata": {
    "id": "XLEIDu6MtULj"
   },
   "source": [
    "### 🗎 [Paper 2](https://drive.google.com/file/d/15H9rYmtFrHGE3BjqxpChZOQNgHLZsjs-/view?usp=share_link) (original research)\n",
    "**Analysis of Discrepancies Between Pulse Oximetry and Arterial Oxygen Saturation Measurements by Race and Ethnicity and Association With Organ Dysfunction and Mortality**\n",
    "\n",
    "*In this cross-sectional study of 5 databases with 87 971 patients,\n",
    "significant disparities in pulse oximetry accuracy across racial and ethnic subgroups (ie, Asian, Black, Hispanic, and White individuals) were found, with higher rates of hidden hypoxemia associated with mortality, future organ dysfunction, and abnormal laboratory test results.*\n",
    "\n",
    "Wong AI, Charpignon M, Kim H, et al. Analysis of Discrepancies Between Pulse Oximetry and Arterial Oxygen Saturation Measurements by Race and Ethnicity and Association With Organ Dysfunction and Mortality. JAMA Netw Open. 2021;4(11):e2131674. https://doi:10.1001/jamanetworkopen.2021.31674"
   ]
  },
  {
   "cell_type": "markdown",
   "metadata": {
    "id": "863tUKmGYeTm"
   },
   "source": [
    "### 🗎 [Paper 3](https://drive.google.com/file/d/1JbfOuWENSHAzn5f6ztTZXwnZGkUfbiZZ/view?usp=share_link) (original research)\n",
    "**Assessment of Racial and Ethnic Differences in Oxygen Supplementation Among Patients in the Intensive Care Unit**\n",
    "\n",
    "*In this cohort study of 3069 patients in the intensive care unit, Asian, Black, and Hispanic patients had a higher adjusted time-weighted average pulse oximetry reading and were administered significantly less supplemental oxygen for a given average hemoglobin oxygen saturation compared with White patients.*\n",
    "\n",
    "Gottlieb ER, Ziegler J, Morley K, Rush B, Celi LA. Assessment of Racial and Ethnic Differences in Oxygen Supplementation Among Patients in the Intensive Care Unit. JAMA Intern Med. 2022;182(8):849–858. https://doi:10.1001/jamainternmed.2022.2587"
   ]
  },
  {
   "cell_type": "markdown",
   "metadata": {
    "id": "bd9sKUCDDv1I"
   },
   "source": [
    "### 🗎 [Paper 4](https://drive.google.com/file/d/1PUtDG5TWKvClljRHokx1fl60mzU7zCy5/view?usp=share_link) (review)\n",
    "\n",
    "**Racial Disparity in Oxygen Saturation Measurements by Pulse Oximetry**\n",
    "\n",
    "*In this article, we review available data regarding the accuracy of pulse oximeters for individuals with dark skin tones, as well as the clinical implications of device inaccuracy at both a patient and public health level. Moreover, we emphasize the urgent need to address the problem of pulse oximeter inaccuracy for individuals with dark skin tones and provide suggestions for the next steps to address the resulting racial health disparity.*\n",
    "\n",
    "Jamali, H., Castillo, L. T., Morgan, C. C., Coult, J., Muhammad, J. L., Osobamiro, O. O., Parsons, E. C., & Adamson, R. (2022). Racial Disparity in Oxygen Saturation Measurements by Pulse Oximetry: Evidence and Implications. Annals of the American Thoracic Society, 19(12), 1951–1964. https://doi.org/10.1513/AnnalsATS.202203-270CME\n",
    "\n"
   ]
  },
  {
   "cell_type": "markdown",
   "metadata": {
    "id": "1ZHGFvOGFPsE"
   },
   "source": [
    "### 🗎 [Paper 5](https://drive.google.com/file/d/1EmAe4a1tQPnWifVOhST4jmCDeD9C1Hx6/view?usp=share_link) (letter)\n",
    "\n",
    "**Dynamic Errors in Pulse Oximetry Preclude Use of Correction Factor**\n",
    "\n",
    "*In “Racial Disparity in Oxygen Saturation Measurements by Pulse Oximetry: Evidence and Implications” [Paper 4 of this workshop] the authors raise the possibility of implementing a skin-tone correction factor to compensate for the overestimation of arterial oxygen saturation ($SaO_2$) by pulse oximeters ($SpO_2$) among individuals with darker skin. We wish to highlight more recent data that suggest this strategy would not rectify the error but rather cement the inequity imposed by current technology and worsen disparities by disproportionately harming patients of color.*\n",
    "\n",
    "(...) *More concerning, three-quarters of patients had bidirectional errors over time, such that pulse oximeters both under- and overestimated oxygen saturation for the same subject at different time points.*\n",
    "\n",
    "Fawzy, A., Valbuena, V. S. M., Chesley, C. F., Wu, T. D., & Iwashyna, T. J. (2023). Dynamic Errors in Pulse Oximetry Preclude Use of Correction Factor. Annals of the American Thoracic Society, 20(2), 338–339. https://doi.org/10.1513/AnnalsATS.202210-872LE"
   ]
  },
  {
   "cell_type": "markdown",
   "metadata": {
    "id": "X6Oy9OaWLQiE"
   },
   "source": [
    "## 2. Objective of the Datathon\n"
   ]
  },
  {
   "cell_type": "markdown",
   "metadata": {
    "id": "ADWDCj9OLY8A"
   },
   "source": [
    "The worldwide utilization of Pulse Oximeters demands urgent action to prevent further downstream harm. While new devices are being designed, a new approach to recalibrate existing devices is necessary, with the goal of mitigating racial-ethnic based underperformance. To the best of our knowledge, this has not been done before.\n",
    "\n",
    "We aim to fill this gap by creating a correction model for $SpO_2$ using Machine Learning (ML) methods.\n",
    "\n",
    "**The hypothesis is that recalibration can be achieved by leveraging an ML model that is fed with $SpO_2$ measurements, alongside with patient demographics, physiological data, and specific\n",
    "treatment information.**"
   ]
  },
  {
   "cell_type": "markdown",
   "metadata": {
    "id": "twZfU5mUXXzi"
   },
   "source": [
    "## 3. The Dataset"
   ]
  },
  {
   "cell_type": "markdown",
   "metadata": {
    "id": "T6fuNHaizAYo"
   },
   "source": [
    "## [MIT Critical Datathon 2023: a MIMIC-IV Derived Dataset for Pulse Oximetry Correction Models](https://physionet.org/content/mit-critical-datathon-2023/1.0.0/)\n",
    "\n",
    "\n"
   ]
  },
  {
   "cell_type": "markdown",
   "metadata": {
    "id": "CT3HJ5ybNoQx"
   },
   "source": [
    "​\n",
    "This dataset supports the building of Pulse Oximetry Correction Models. Derived from MIMIC-IV v2.2, it includes 14,404 distinct patients admitted to the Intensive Care Unit (ICU) from 15,923 ICU stays. Paired  measurements are aligned with patient demographics, physiological data, and treatment information. There are 81,797  pairs in total, captured within 90 minutes, where each variable has a time delta relative to the  timestamp.\n",
    "\n",
    "​More info in the [PhysioNet Project Page](https://physionet.org) (not published yet!)"
   ]
  },
  {
   "cell_type": "markdown",
   "metadata": {
    "id": "ef7GzLb7RE_H"
   },
   "source": [
    "*Johnson, A.E.W., Bulgarelli, L., Shen, L. et al. MIMIC-IV, a freely accessible electronic health record dataset. Sci Data 10, 1 (2023). https://doi.org/10.1038/s41597-022-01899-x*"
   ]
  },
  {
   "cell_type": "markdown",
   "metadata": {
    "id": "91gNJ-8l_8qD"
   },
   "source": [
    "## 4. Data Access"
   ]
  },
  {
   "cell_type": "markdown",
   "metadata": {
    "id": "_aw39qp1RcRk"
   },
   "source": [
    "### Prerequisites\n",
    "\n",
    "The MIMIC datasets are access-controlled by [PhysioNet](https://physionet.org/).\n",
    "\n",
    "Follow the instructions in the bottom of the PhysioNet Dataset page to get access to the data. Overall, you must:\n",
    "- Be a credentialled PhysioNet user,\n",
    "- Complete the appropriate institutional research training (CITI training in human research subject protection and HIPAA regulations) and get it verified by PhysioNet,\n",
    "- Sign the Data Use Agreement\n"
   ]
  },
  {
   "cell_type": "markdown",
   "metadata": {
    "id": "i_iPttiVSKW3"
   },
   "source": [
    "**Useful Materials**\n",
    "- [MIMIC - Get Started Tutorial](https://mimic.mit.edu/docs/gettingstarted/)\n",
    "- [CITI Course Instructions](https://physionet.org/about/citi-course/#:~:text=In%20order%20to%20become%20a,subject%20protections%20and%20HIPAA%20regulations.)"
   ]
  },
  {
   "cell_type": "markdown",
   "metadata": {
    "id": "0zZqB9TQOOiV"
   },
   "source": [
    "### Access Data"
   ]
  },
  {
   "cell_type": "markdown",
   "metadata": {},
   "source": [
    "Please download zip file of the dataset from [MIT Critical Datathon 2023: a MIMIC-IV Derived Dataset for Pulse Oximetry Correction Models](https://physionet.org/content/mit-critical-datathon-2023/1.0.0/)"
   ]
  },
  {
   "cell_type": "markdown",
   "metadata": {},
   "source": [
    "## 5. Data Load"
   ]
  },
  {
   "cell_type": "markdown",
   "metadata": {},
   "source": [
    "### Understand the variables:\n",
    "\n",
    "The first step is to understand what variables your dataset has and how these variables are distributed. The columns and data types are.\n",
    "\n",
    "You can find the definition of each variables in `mimic_pulseOx_dictionary.csv`."
   ]
  },
  {
   "cell_type": "markdown",
   "metadata": {},
   "source": [
    "### Try to load data:\n",
    "\n",
    "Load dataset from `mimic_pulseOx_data.csv`."
   ]
  },
  {
   "cell_type": "markdown",
   "metadata": {},
   "source": [
    "`You can load data through 2 options:`"
   ]
  },
  {
   "cell_type": "markdown",
   "metadata": {},
   "source": [
    "### Option 1: Google Drive\n",
    "(if you are using Google Colab)"
   ]
  },
  {
   "cell_type": "markdown",
   "metadata": {},
   "source": [
    "`Mount Google Drive to access your files:`"
   ]
  },
  {
   "cell_type": "code",
   "execution_count": 1,
   "metadata": {},
   "outputs": [],
   "source": [
    "# from google.colab import drive\n",
    "# drive.mount('/content/drive')"
   ]
  },
  {
   "cell_type": "code",
   "execution_count": 2,
   "metadata": {},
   "outputs": [],
   "source": [
    "# # check current directory\n",
    "# %pwd\n",
    "\n",
    "# # move to directory of ongoing project\n",
    "# %cd /content/drive/MyDrive/\"Colab Notebooks\"/\"Data_Science_For_Digital_Health_2025 - Datathon\"/code/Python"
   ]
  },
  {
   "cell_type": "markdown",
   "metadata": {},
   "source": [
    "`After placing your CSV in your Google Drive, run:`"
   ]
  },
  {
   "cell_type": "code",
   "execution_count": 3,
   "metadata": {
    "id": "ynQMEH2OVnHy"
   },
   "outputs": [],
   "source": [
    "# import pandas as pd\n",
    "\n",
    "# # Code here !\n",
    "\n",
    "# # Read the csv file\n",
    "# csv_file_path = \"../../data/mimic_pulseOx_data.csv\"\n",
    "# data = pd.read_csv(csv_file_path)"
   ]
  },
  {
   "cell_type": "markdown",
   "metadata": {
    "id": "ei8IyguXe9iz"
   },
   "source": [
    "`Did it work? Inspect the Data:`"
   ]
  },
  {
   "cell_type": "code",
   "execution_count": 4,
   "metadata": {
    "id": "I_9Jr8jFerEg"
   },
   "outputs": [],
   "source": [
    "# # Inspect first 5 rows of data\n",
    "# data.head(5)"
   ]
  },
  {
   "cell_type": "markdown",
   "metadata": {},
   "source": [
    "### Option 2: In your Local Machine\n",
    "(if you are not using Google Colab)"
   ]
  },
  {
   "cell_type": "markdown",
   "metadata": {},
   "source": [
    "`Run`"
   ]
  },
  {
   "cell_type": "code",
   "execution_count": 5,
   "metadata": {},
   "outputs": [],
   "source": [
    "import pandas as pd\n",
    "\n",
    "# Code here !\n",
    "\n",
    "# Read the csv file\n",
    "csv_file_path = \"../../data/mimic_pulseOx_data.csv\"\n",
    "data = pd.read_csv(csv_file_path)"
   ]
  },
  {
   "cell_type": "code",
   "execution_count": 6,
   "metadata": {},
   "outputs": [
    {
     "data": {
      "text/html": [
       "<div>\n",
       "<style scoped>\n",
       "    .dataframe tbody tr th:only-of-type {\n",
       "        vertical-align: middle;\n",
       "    }\n",
       "\n",
       "    .dataframe tbody tr th {\n",
       "        vertical-align: top;\n",
       "    }\n",
       "\n",
       "    .dataframe thead th {\n",
       "        text-align: right;\n",
       "    }\n",
       "</style>\n",
       "<table border=\"1\" class=\"dataframe\">\n",
       "  <thead>\n",
       "    <tr style=\"text-align: right;\">\n",
       "      <th></th>\n",
       "      <th>subject_id</th>\n",
       "      <th>stay_id</th>\n",
       "      <th>SaO2_timestamp</th>\n",
       "      <th>SaO2</th>\n",
       "      <th>delta_SpO2</th>\n",
       "      <th>SpO2</th>\n",
       "      <th>hidden_hypoxemia</th>\n",
       "      <th>hadm_id</th>\n",
       "      <th>gender</th>\n",
       "      <th>sex_female</th>\n",
       "      <th>...</th>\n",
       "      <th>delta_mbp</th>\n",
       "      <th>mbp</th>\n",
       "      <th>delta_resp_rate</th>\n",
       "      <th>resp_rate</th>\n",
       "      <th>delta_temperature</th>\n",
       "      <th>temperature</th>\n",
       "      <th>delta_glucose</th>\n",
       "      <th>glucose</th>\n",
       "      <th>delta_heart_rhythm</th>\n",
       "      <th>heart_rhythm</th>\n",
       "    </tr>\n",
       "  </thead>\n",
       "  <tbody>\n",
       "    <tr>\n",
       "      <th>0</th>\n",
       "      <td>10001884</td>\n",
       "      <td>37510196</td>\n",
       "      <td>2131-01-12 21:04:00</td>\n",
       "      <td>90.0</td>\n",
       "      <td>-4</td>\n",
       "      <td>89</td>\n",
       "      <td>0</td>\n",
       "      <td>26184834</td>\n",
       "      <td>F</td>\n",
       "      <td>1</td>\n",
       "      <td>...</td>\n",
       "      <td>-3</td>\n",
       "      <td>96.0</td>\n",
       "      <td>-4.0</td>\n",
       "      <td>19.5</td>\n",
       "      <td>-64.0</td>\n",
       "      <td>36.72</td>\n",
       "      <td>445.0</td>\n",
       "      <td>199.0</td>\n",
       "      <td>-4.0</td>\n",
       "      <td>SR (Sinus Rhythm)</td>\n",
       "    </tr>\n",
       "    <tr>\n",
       "      <th>1</th>\n",
       "      <td>10001884</td>\n",
       "      <td>37510196</td>\n",
       "      <td>2131-01-13 02:28:00</td>\n",
       "      <td>92.0</td>\n",
       "      <td>-28</td>\n",
       "      <td>94</td>\n",
       "      <td>0</td>\n",
       "      <td>26184834</td>\n",
       "      <td>F</td>\n",
       "      <td>1</td>\n",
       "      <td>...</td>\n",
       "      <td>-27</td>\n",
       "      <td>98.0</td>\n",
       "      <td>-28.0</td>\n",
       "      <td>22.0</td>\n",
       "      <td>92.0</td>\n",
       "      <td>36.56</td>\n",
       "      <td>121.0</td>\n",
       "      <td>199.0</td>\n",
       "      <td>-28.0</td>\n",
       "      <td>SR (Sinus Rhythm)</td>\n",
       "    </tr>\n",
       "    <tr>\n",
       "      <th>2</th>\n",
       "      <td>10002013</td>\n",
       "      <td>39060235</td>\n",
       "      <td>2160-05-18 16:03:00</td>\n",
       "      <td>99.0</td>\n",
       "      <td>0</td>\n",
       "      <td>99</td>\n",
       "      <td>0</td>\n",
       "      <td>23581541</td>\n",
       "      <td>F</td>\n",
       "      <td>1</td>\n",
       "      <td>...</td>\n",
       "      <td>-3</td>\n",
       "      <td>86.5</td>\n",
       "      <td>-2.0</td>\n",
       "      <td>14.0</td>\n",
       "      <td>-3.0</td>\n",
       "      <td>36.90</td>\n",
       "      <td>0.0</td>\n",
       "      <td>155.0</td>\n",
       "      <td>-3.0</td>\n",
       "      <td>SR (Sinus Rhythm)</td>\n",
       "    </tr>\n",
       "    <tr>\n",
       "      <th>3</th>\n",
       "      <td>10002013</td>\n",
       "      <td>39060235</td>\n",
       "      <td>2160-05-18 17:42:00</td>\n",
       "      <td>96.0</td>\n",
       "      <td>-42</td>\n",
       "      <td>97</td>\n",
       "      <td>0</td>\n",
       "      <td>23581541</td>\n",
       "      <td>F</td>\n",
       "      <td>1</td>\n",
       "      <td>...</td>\n",
       "      <td>18</td>\n",
       "      <td>73.0</td>\n",
       "      <td>18.0</td>\n",
       "      <td>23.0</td>\n",
       "      <td>18.0</td>\n",
       "      <td>36.70</td>\n",
       "      <td>0.0</td>\n",
       "      <td>149.0</td>\n",
       "      <td>18.0</td>\n",
       "      <td>ST (Sinus Tachycardia)</td>\n",
       "    </tr>\n",
       "    <tr>\n",
       "      <th>4</th>\n",
       "      <td>10002013</td>\n",
       "      <td>39060235</td>\n",
       "      <td>2160-05-18 21:32:00</td>\n",
       "      <td>97.0</td>\n",
       "      <td>-32</td>\n",
       "      <td>98</td>\n",
       "      <td>0</td>\n",
       "      <td>23581541</td>\n",
       "      <td>F</td>\n",
       "      <td>1</td>\n",
       "      <td>...</td>\n",
       "      <td>28</td>\n",
       "      <td>86.0</td>\n",
       "      <td>28.0</td>\n",
       "      <td>18.0</td>\n",
       "      <td>28.0</td>\n",
       "      <td>37.50</td>\n",
       "      <td>0.0</td>\n",
       "      <td>141.0</td>\n",
       "      <td>28.0</td>\n",
       "      <td>SR (Sinus Rhythm)</td>\n",
       "    </tr>\n",
       "  </tbody>\n",
       "</table>\n",
       "<p>5 rows × 138 columns</p>\n",
       "</div>"
      ],
      "text/plain": [
       "   subject_id   stay_id       SaO2_timestamp  SaO2  delta_SpO2  SpO2  \\\n",
       "0    10001884  37510196  2131-01-12 21:04:00  90.0          -4    89   \n",
       "1    10001884  37510196  2131-01-13 02:28:00  92.0         -28    94   \n",
       "2    10002013  39060235  2160-05-18 16:03:00  99.0           0    99   \n",
       "3    10002013  39060235  2160-05-18 17:42:00  96.0         -42    97   \n",
       "4    10002013  39060235  2160-05-18 21:32:00  97.0         -32    98   \n",
       "\n",
       "   hidden_hypoxemia   hadm_id gender  sex_female  ...  delta_mbp   mbp  \\\n",
       "0                 0  26184834      F           1  ...         -3  96.0   \n",
       "1                 0  26184834      F           1  ...        -27  98.0   \n",
       "2                 0  23581541      F           1  ...         -3  86.5   \n",
       "3                 0  23581541      F           1  ...         18  73.0   \n",
       "4                 0  23581541      F           1  ...         28  86.0   \n",
       "\n",
       "  delta_resp_rate resp_rate delta_temperature  temperature  delta_glucose  \\\n",
       "0            -4.0      19.5             -64.0        36.72          445.0   \n",
       "1           -28.0      22.0              92.0        36.56          121.0   \n",
       "2            -2.0      14.0              -3.0        36.90            0.0   \n",
       "3            18.0      23.0              18.0        36.70            0.0   \n",
       "4            28.0      18.0              28.0        37.50            0.0   \n",
       "\n",
       "   glucose delta_heart_rhythm             heart_rhythm  \n",
       "0    199.0               -4.0        SR (Sinus Rhythm)  \n",
       "1    199.0              -28.0        SR (Sinus Rhythm)  \n",
       "2    155.0               -3.0        SR (Sinus Rhythm)  \n",
       "3    149.0               18.0  ST (Sinus Tachycardia)   \n",
       "4    141.0               28.0        SR (Sinus Rhythm)  \n",
       "\n",
       "[5 rows x 138 columns]"
      ]
     },
     "execution_count": 6,
     "metadata": {},
     "output_type": "execute_result"
    }
   ],
   "source": [
    "# Inspect first 5 rows of data\n",
    "data.head(5)"
   ]
  },
  {
   "cell_type": "code",
   "execution_count": null,
   "metadata": {},
   "outputs": [],
   "source": []
  }
 ],
 "metadata": {
  "colab": {
   "include_colab_link": true,
   "provenance": []
  },
  "kernelspec": {
   "display_name": "base",
   "language": "python",
   "name": "python3"
  },
  "language_info": {
   "codemirror_mode": {
    "name": "ipython",
    "version": 3
   },
   "file_extension": ".py",
   "mimetype": "text/x-python",
   "name": "python",
   "nbconvert_exporter": "python",
   "pygments_lexer": "ipython3",
   "version": "3.11.5"
  }
 },
 "nbformat": 4,
 "nbformat_minor": 1
}
