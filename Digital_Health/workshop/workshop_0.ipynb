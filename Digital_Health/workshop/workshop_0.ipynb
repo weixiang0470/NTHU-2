{
 "cells": [
  {
   "cell_type": "markdown",
   "metadata": {
    "id": "WHeL3UVYDhBg"
   },
   "source": [
    "# Workshop 0️: Preparatory Materials"
   ]
  },
  {
   "cell_type": "markdown",
   "metadata": {
    "id": "Gg8JaMlqzKG7"
   },
   "source": [
    "### Background\n",
    "\n"
   ]
  },
  {
   "cell_type": "markdown",
   "metadata": {
    "id": "m8s5Z1KCzOji"
   },
   "source": [
    "​\n",
    "Pulse oximeters are medical devices used to assess peripheral arterial oxygen saturation ($SpO_2$) **noninvasively**. In contrast, the \"gold standard\" requires arterial blood to be drawn to measure the arterial oxygen saturation ($SaO_{2}$). Pulse oximeters currently on the market measure  in populations with darker skin tones with lower accuracy.\n",
    "\n",
    "Pulse oximetry inaccuracies can fail to detect episodes of hidden hypoxemia, i.e., low $SaO_{2}$ with high $SpO_2$. Hidden hypoxemias can result in less treatment and increased mortality. Yet flawed, pulse oximeters remain ubiquitously used because of their ease of use; debiasing the underlying algorithms could alleviate the downstream repercussions of hidden hypoxemia.\n",
    "\n",
    "​"
   ]
  },
  {
   "cell_type": "markdown",
   "metadata": {
    "id": "xAdeP8OgXUQR"
   },
   "source": [
    "## 1. Literature Review\n",
    "\n"
   ]
  },
  {
   "cell_type": "markdown",
   "metadata": {
    "id": "jVwBXCKAyrXA"
   },
   "source": [
    "Here is some recent literature that motivates this Case Study.\n",
    "\n",
    "A comprehensive living literature compilation has been put together by [Open Oximetry](https://openoximetry.org/publications/). Explore it, if you are curious to learn more!\n",
    "\n",
    "However, these 5 papers below are our main recommendations.\n",
    "\n",
    "You have a summary below, but can access the full articles in the\n",
    "[Google Drive Folder](https://drive.google.com/drive/folders/1fey9LDUynWk2ZgVKeFc9B2tfnrlyiR7c?usp=share_link).\n",
    "\n",
    "If you are short on time, we recommend the first 2-3 papers as a must read, and the other ones are optional. "
   ]
  },
  {
   "cell_type": "markdown",
   "metadata": {
    "id": "wtl2xfLTGBqY"
   },
   "source": [
    "### 🗎 [Paper 1](https://drive.google.com/file/d/14IirFD9SnVvmiD4W3KMXYmc2eQVwcSlB/view?usp=share_link) (letter)\n",
    "**Racial Bias in Pulse Oximetry Measurement**\n",
    "\n",
    "\n",
    "\n",
    "*This study of 48,097 pair of measures from University of Michigan report nearly three times more occult hypoxemia in Black patients compared to White patients. However, not all Black patients with pulse oxymetry of 92-96% had occult hypoxemia, with the correction factor not straightforward.*\n",
    "\n",
    "Sjoding MW, Dickson RP, Iwashyna TJ, Gay SE, Valley TS. Racial Bias in Pulse Oximetry Measurement. N Engl J Med. 2020 Dec 17;383(25):2477-2478. doi: 10.1056/NEJMc2029240. Erratum in: N Engl J Med. 2021 Dec 23;385(26):2496. PMID: 33326721; PMCID: PMC7808260. https://www.nejm.org/doi/10.1056/NEJMc2029240"
   ]
  },
  {
   "cell_type": "markdown",
   "metadata": {
    "id": "XLEIDu6MtULj"
   },
   "source": [
    "### 🗎 [Paper 2](https://drive.google.com/file/d/15H9rYmtFrHGE3BjqxpChZOQNgHLZsjs-/view?usp=share_link) (original research)\n",
    "**Analysis of Discrepancies Between Pulse Oximetry and Arterial Oxygen Saturation Measurements by Race and Ethnicity and Association With Organ Dysfunction and Mortality**\n",
    "\n",
    "*In this cross-sectional study of 5 databases with 87 971 patients,\n",
    "significant disparities in pulse oximetry accuracy across racial and ethnic subgroups (ie, Asian, Black, Hispanic, and White individuals) were found, with higher rates of hidden hypoxemia associated with mortality, future organ dysfunction, and abnormal laboratory test results.*\n",
    "\n",
    "Wong AI, Charpignon M, Kim H, et al. Analysis of Discrepancies Between Pulse Oximetry and Arterial Oxygen Saturation Measurements by Race and Ethnicity and Association With Organ Dysfunction and Mortality. JAMA Netw Open. 2021;4(11):e2131674. https://doi:10.1001/jamanetworkopen.2021.31674"
   ]
  },
  {
   "cell_type": "markdown",
   "metadata": {
    "id": "863tUKmGYeTm"
   },
   "source": [
    "### 🗎 [Paper 3](https://drive.google.com/file/d/1JbfOuWENSHAzn5f6ztTZXwnZGkUfbiZZ/view?usp=share_link) (original research)\n",
    "**Assessment of Racial and Ethnic Differences in Oxygen Supplementation Among Patients in the Intensive Care Unit**\n",
    "\n",
    "*In this cohort study of 3069 patients in the intensive care unit, Asian, Black, and Hispanic patients had a higher adjusted time-weighted average pulse oximetry reading and were administered significantly less supplemental oxygen for a given average hemoglobin oxygen saturation compared with White patients.*\n",
    "\n",
    "Gottlieb ER, Ziegler J, Morley K, Rush B, Celi LA. Assessment of Racial and Ethnic Differences in Oxygen Supplementation Among Patients in the Intensive Care Unit. JAMA Intern Med. 2022;182(8):849–858. https://doi:10.1001/jamainternmed.2022.2587"
   ]
  },
  {
   "cell_type": "markdown",
   "metadata": {
    "id": "bd9sKUCDDv1I"
   },
   "source": [
    "### 🗎 [Paper 4](https://drive.google.com/file/d/1PUtDG5TWKvClljRHokx1fl60mzU7zCy5/view?usp=share_link) (review)\n",
    "\n",
    "**Racial Disparity in Oxygen Saturation Measurements by Pulse Oximetry**\n",
    "\n",
    "*In this article, we review available data regarding the accuracy of pulse oximeters for individuals with dark skin tones, as well as the clinical implications of device inaccuracy at both a patient and public health level. Moreover, we emphasize the urgent need to address the problem of pulse oximeter inaccuracy for individuals with dark skin tones and provide suggestions for the next steps to address the resulting racial health disparity.*\n",
    "\n",
    "Jamali, H., Castillo, L. T., Morgan, C. C., Coult, J., Muhammad, J. L., Osobamiro, O. O., Parsons, E. C., & Adamson, R. (2022). Racial Disparity in Oxygen Saturation Measurements by Pulse Oximetry: Evidence and Implications. Annals of the American Thoracic Society, 19(12), 1951–1964. https://doi.org/10.1513/AnnalsATS.202203-270CME\n",
    "\n"
   ]
  },
  {
   "cell_type": "markdown",
   "metadata": {
    "id": "1ZHGFvOGFPsE"
   },
   "source": [
    "### 🗎 [Paper 5](https://drive.google.com/file/d/1EmAe4a1tQPnWifVOhST4jmCDeD9C1Hx6/view?usp=share_link) (letter)\n",
    "\n",
    "**Dynamic Errors in Pulse Oximetry Preclude Use of Correction Factor**\n",
    "\n",
    "*In “Racial Disparity in Oxygen Saturation Measurements by Pulse Oximetry: Evidence and Implications” [Paper 4 of this workshop] the authors raise the possibility of implementing a skin-tone correction factor to compensate for the overestimation of arterial oxygen saturation ($SaO_2$) by pulse oximeters ($SpO_2$) among individuals with darker skin. We wish to highlight more recent data that suggest this strategy would not rectify the error but rather cement the inequity imposed by current technology and worsen disparities by disproportionately harming patients of color.*\n",
    "\n",
    "(...) *More concerning, three-quarters of patients had bidirectional errors over time, such that pulse oximeters both under- and overestimated oxygen saturation for the same subject at different time points.*\n",
    "\n",
    "Fawzy, A., Valbuena, V. S. M., Chesley, C. F., Wu, T. D., & Iwashyna, T. J. (2023). Dynamic Errors in Pulse Oximetry Preclude Use of Correction Factor. Annals of the American Thoracic Society, 20(2), 338–339. https://doi.org/10.1513/AnnalsATS.202210-872LE"
   ]
  },
  {
   "cell_type": "markdown",
   "metadata": {
    "id": "X6Oy9OaWLQiE"
   },
   "source": [
    "## 2. Objective of the Datathon\n"
   ]
  },
  {
   "cell_type": "markdown",
   "metadata": {
    "id": "ADWDCj9OLY8A"
   },
   "source": [
    "The worldwide utilization of Pulse Oximeters demands urgent action to prevent further downstream harm. While new devices are being designed, a new approach to recalibrate existing devices is necessary, with the goal of mitigating racial-ethnic based underperformance. To the best of our knowledge, this has not been done before.\n",
    "\n",
    "We aim to fill this gap by creating a correction model for $SpO_2$ using Machine Learning (ML) methods.\n",
    "\n",
    "**The hypothesis is that recalibration can be achieved by leveraging an ML model that is fed with $SpO_2$ measurements, alongside with patient demographics, physiological data, and specific\n",
    "treatment information.**"
   ]
  },
  {
   "cell_type": "markdown",
   "metadata": {
    "id": "twZfU5mUXXzi"
   },
   "source": [
    "## 3. The Dataset"
   ]
  },
  {
   "cell_type": "markdown",
   "metadata": {
    "id": "T6fuNHaizAYo"
   },
   "source": [
    "## [MIT Critical Datathon 2023: a MIMIC-IV Derived Dataset for Pulse Oximetry Correction Models](https://physionet.org/content/mit-critical-datathon-2023/1.0.0/)\n",
    "\n",
    "\n"
   ]
  },
  {
   "cell_type": "markdown",
   "metadata": {
    "id": "CT3HJ5ybNoQx"
   },
   "source": [
    "​\n",
    "This dataset supports the building of Pulse Oximetry Correction Models. Derived from MIMIC-IV v2.2, it includes 14,404 distinct patients admitted to the Intensive Care Unit (ICU) from 15,923 ICU stays. Paired  measurements are aligned with patient demographics, physiological data, and treatment information. There are 81,797  pairs in total, captured within 90 minutes, where each variable has a time delta relative to the  timestamp.\n",
    "\n",
    "​More info in the [PhysioNet Project Page](https://physionet.org) (not published yet!)"
   ]
  },
  {
   "cell_type": "markdown",
   "metadata": {
    "id": "ef7GzLb7RE_H"
   },
   "source": [
    "*Johnson, A.E.W., Bulgarelli, L., Shen, L. et al. MIMIC-IV, a freely accessible electronic health record dataset. Sci Data 10, 1 (2023). https://doi.org/10.1038/s41597-022-01899-x*"
   ]
  },
  {
   "cell_type": "markdown",
   "metadata": {
    "id": "91gNJ-8l_8qD"
   },
   "source": [
    "## 4. Data Access"
   ]
  },
  {
   "cell_type": "markdown",
   "metadata": {
    "id": "_aw39qp1RcRk"
   },
   "source": [
    "### Prerequisites\n",
    "\n",
    "The MIMIC datasets are access-controlled by [PhysioNet](https://physionet.org/).\n",
    "\n",
    "Follow the instructions in the bottom of the PhysioNet Dataset page to get access to the data. Overall, you must:\n",
    "- Be a credentialled PhysioNet user,\n",
    "- Complete the appropriate institutional research training (CITI training in human research subject protection and HIPAA regulations) and get it verified by PhysioNet,\n",
    "- Sign the Data Use Agreement\n"
   ]
  },
  {
   "cell_type": "markdown",
   "metadata": {
    "id": "i_iPttiVSKW3"
   },
   "source": [
    "**Useful Materials**\n",
    "- [MIMIC - Get Started Tutorial](https://mimic.mit.edu/docs/gettingstarted/)\n",
    "- [CITI Course Instructions](https://physionet.org/about/citi-course/#:~:text=In%20order%20to%20become%20a,subject%20protections%20and%20HIPAA%20regulations.)"
   ]
  },
  {
   "cell_type": "markdown",
   "metadata": {
    "id": "0zZqB9TQOOiV"
   },
   "source": [
    "### Access Data"
   ]
  },
  {
   "cell_type": "markdown",
   "metadata": {},
   "source": [
    "Please download zip file of the dataset from [MIT Critical Datathon 2023: a MIMIC-IV Derived Dataset for Pulse Oximetry Correction Models](https://physionet.org/content/mit-critical-datathon-2023/1.0.0/)"
   ]
  },
  {
   "cell_type": "markdown",
   "metadata": {},
   "source": [
    "## 5. Data Load"
   ]
  },
  {
   "cell_type": "markdown",
   "metadata": {},
   "source": [
    "### Understand the variables:\n",
    "\n",
    "The first step is to understand what variables your dataset has and how these variables are distributed. The columns and data types are.\n",
    "\n",
    "You can find the definition of each variables in `mimic_pulseOx_dictionary.csv`."
   ]
  },
  {
   "cell_type": "markdown",
   "metadata": {},
   "source": [
    "### Try to load data:\n",
    "\n",
    "Load dataset from `mimic_pulseOx_data.csv`."
   ]
  },
  {
   "cell_type": "markdown",
   "metadata": {},
   "source": [
    "`You can load data through 2 options:`"
   ]
  },
  {
   "cell_type": "markdown",
   "metadata": {},
   "source": [
    "### Option 1: Google Drive\n",
    "(if you are using Google Colab)"
   ]
  },
  {
   "cell_type": "markdown",
   "metadata": {},
   "source": [
    "`Mount Google Drive to access your files:`"
   ]
  },
  {
   "cell_type": "code",
   "execution_count": null,
   "metadata": {},
   "outputs": [],
   "source": [
    "# from google.colab import drive\n",
    "# drive.mount('/content/drive')"
   ]
  },
  {
   "cell_type": "code",
   "execution_count": null,
   "metadata": {},
   "outputs": [],
   "source": [
    "# # check current directory\n",
    "# %pwd\n",
    "\n",
    "# # move to directory of ongoing project\n",
    "# %cd /content/drive/MyDrive/\"Colab Notebooks\"/\"your_path_to_drive_root_dir\""
   ]
  },
  {
   "cell_type": "markdown",
   "metadata": {},
   "source": [
    "`After placing your CSV in your Google Drive, run:`"
   ]
  },
  {
   "cell_type": "code",
   "execution_count": null,
   "metadata": {
    "id": "ynQMEH2OVnHy"
   },
   "outputs": [],
   "source": [
    "# import pandas as pd\n",
    "\n",
    "# # Code here !\n",
    "\n",
    "# # Read the csv file\n",
    "# csv_file_path = \"your_path_to_drive_file.csv\"\n",
    "# data = pd.read_csv(csv_file_path)"
   ]
  },
  {
   "cell_type": "markdown",
   "metadata": {
    "id": "ei8IyguXe9iz"
   },
   "source": [
    "`Did it work? Inspect the Data:`"
   ]
  },
  {
   "cell_type": "code",
   "execution_count": null,
   "metadata": {
    "id": "I_9Jr8jFerEg"
   },
   "outputs": [],
   "source": [
    "# # Inspect first 5 rows of data\n",
    "# data.head(5)"
   ]
  },
  {
   "cell_type": "markdown",
   "metadata": {},
   "source": [
    "### Option 2: In your Local Machine\n",
    "(if you are not using Google Colab)"
   ]
  },
  {
   "cell_type": "markdown",
   "metadata": {},
   "source": [
    "`Run`"
   ]
  },
  {
   "cell_type": "code",
   "execution_count": 6,
   "metadata": {},
   "outputs": [],
   "source": [
    "import pandas as pd\n",
    "\n",
    "# Code here !\n",
    "\n",
    "# Read the csv file\n",
    "csv_file_path = \"./data/mimic_pulseOx_data.csv\"\n",
    "dict_csv_file_path = \"./data/mimic_pulseOx_dictionary.csv\"\n",
    "data = pd.read_csv(dict_csv_file_path)"
   ]
  },
  {
   "cell_type": "code",
   "execution_count": 7,
   "metadata": {},
   "outputs": [
    {
     "data": {
      "text/html": [
       "<div>\n",
       "<style scoped>\n",
       "    .dataframe tbody tr th:only-of-type {\n",
       "        vertical-align: middle;\n",
       "    }\n",
       "\n",
       "    .dataframe tbody tr th {\n",
       "        vertical-align: top;\n",
       "    }\n",
       "\n",
       "    .dataframe thead th {\n",
       "        text-align: right;\n",
       "    }\n",
       "</style>\n",
       "<table border=\"1\" class=\"dataframe\">\n",
       "  <thead>\n",
       "    <tr style=\"text-align: right;\">\n",
       "      <th></th>\n",
       "      <th>name</th>\n",
       "      <th>type</th>\n",
       "      <th>description</th>\n",
       "    </tr>\n",
       "  </thead>\n",
       "  <tbody>\n",
       "    <tr>\n",
       "      <th>0</th>\n",
       "      <td>subject_id</td>\n",
       "      <td>int64</td>\n",
       "      <td>Unique identifier for each patient</td>\n",
       "    </tr>\n",
       "    <tr>\n",
       "      <th>1</th>\n",
       "      <td>stay_id</td>\n",
       "      <td>int64</td>\n",
       "      <td>Unique identifier for each hospital stay</td>\n",
       "    </tr>\n",
       "    <tr>\n",
       "      <th>2</th>\n",
       "      <td>SaO2_timestamp</td>\n",
       "      <td>object</td>\n",
       "      <td>Timestamp for SaO2 measurement</td>\n",
       "    </tr>\n",
       "    <tr>\n",
       "      <th>3</th>\n",
       "      <td>SaO2</td>\n",
       "      <td>float64</td>\n",
       "      <td>Arterial oxygen saturation</td>\n",
       "    </tr>\n",
       "    <tr>\n",
       "      <th>4</th>\n",
       "      <td>delta_SpO2</td>\n",
       "      <td>int64</td>\n",
       "      <td>Time offset (in minutes) in the measurement of...</td>\n",
       "    </tr>\n",
       "    <tr>\n",
       "      <th>...</th>\n",
       "      <td>...</td>\n",
       "      <td>...</td>\n",
       "      <td>...</td>\n",
       "    </tr>\n",
       "    <tr>\n",
       "      <th>133</th>\n",
       "      <td>temperature</td>\n",
       "      <td>float64</td>\n",
       "      <td>Body temperature</td>\n",
       "    </tr>\n",
       "    <tr>\n",
       "      <th>134</th>\n",
       "      <td>delta_glucose</td>\n",
       "      <td>float64</td>\n",
       "      <td>Time offset (in minutes) in the measurement of...</td>\n",
       "    </tr>\n",
       "    <tr>\n",
       "      <th>135</th>\n",
       "      <td>glucose</td>\n",
       "      <td>float64</td>\n",
       "      <td>Glucose level</td>\n",
       "    </tr>\n",
       "    <tr>\n",
       "      <th>136</th>\n",
       "      <td>delta_heart_rhythm</td>\n",
       "      <td>float64</td>\n",
       "      <td>Time offset (in minutes) in the measurement of...</td>\n",
       "    </tr>\n",
       "    <tr>\n",
       "      <th>137</th>\n",
       "      <td>heart_rhythm</td>\n",
       "      <td>object</td>\n",
       "      <td>Heart rhythm</td>\n",
       "    </tr>\n",
       "  </tbody>\n",
       "</table>\n",
       "<p>138 rows × 3 columns</p>\n",
       "</div>"
      ],
      "text/plain": [
       "                   name     type  \\\n",
       "0            subject_id    int64   \n",
       "1               stay_id    int64   \n",
       "2        SaO2_timestamp   object   \n",
       "3                  SaO2  float64   \n",
       "4            delta_SpO2    int64   \n",
       "..                  ...      ...   \n",
       "133         temperature  float64   \n",
       "134       delta_glucose  float64   \n",
       "135             glucose  float64   \n",
       "136  delta_heart_rhythm  float64   \n",
       "137        heart_rhythm   object   \n",
       "\n",
       "                                           description  \n",
       "0                   Unique identifier for each patient  \n",
       "1             Unique identifier for each hospital stay  \n",
       "2                       Timestamp for SaO2 measurement  \n",
       "3                           Arterial oxygen saturation  \n",
       "4    Time offset (in minutes) in the measurement of...  \n",
       "..                                                 ...  \n",
       "133                                   Body temperature  \n",
       "134  Time offset (in minutes) in the measurement of...  \n",
       "135                                      Glucose level  \n",
       "136  Time offset (in minutes) in the measurement of...  \n",
       "137                                       Heart rhythm  \n",
       "\n",
       "[138 rows x 3 columns]"
      ]
     },
     "execution_count": 7,
     "metadata": {},
     "output_type": "execute_result"
    }
   ],
   "source": [
    "# Inspect first 5 rows of data\n",
    "data"
   ]
  },
  {
   "cell_type": "code",
   "execution_count": null,
   "metadata": {},
   "outputs": [],
   "source": []
  }
 ],
 "metadata": {
  "colab": {
   "include_colab_link": true,
   "provenance": []
  },
  "kernelspec": {
   "display_name": "nthu_ml",
   "language": "python",
   "name": "python3"
  },
  "language_info": {
   "codemirror_mode": {
    "name": "ipython",
    "version": 3
   },
   "file_extension": ".py",
   "mimetype": "text/x-python",
   "name": "python",
   "nbconvert_exporter": "python",
   "pygments_lexer": "ipython3",
   "version": "3.10.15"
  }
 },
 "nbformat": 4,
 "nbformat_minor": 1
}
