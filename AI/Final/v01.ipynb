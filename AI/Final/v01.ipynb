{
 "cells": [
  {
   "cell_type": "code",
   "execution_count": 1,
   "id": "b80a9cfe",
   "metadata": {},
   "outputs": [],
   "source": [
    "prompt=\"\""
   ]
  },
  {
   "cell_type": "code",
   "execution_count": 15,
   "id": "02eead7e",
   "metadata": {},
   "outputs": [],
   "source": [
    "def topic(topic_input):\n",
    "    tmp_prompt = \"主題： \"+topic_input+\"\\n\"\n",
    "    return tmp_prompt\n",
    "def style(style_input):\n",
    "    tmp_prompt = \"風格： \" + style_input+\"\\n\"\n",
    "    return tmp_prompt\n",
    "def element(element_input):\n",
    "    tmp_prompt = \"元素： \" + element_input+\"\\n\"\n",
    "    return tmp_prompt\n",
    "def color(color_input):\n",
    "    tmp_prompt = \"配色： \" + color_input +\"\\n\"\n",
    "    return tmp_prompt\n"
   ]
  },
  {
   "cell_type": "code",
   "execution_count": 16,
   "id": "643a877a",
   "metadata": {},
   "outputs": [],
   "source": [
    "topic_in = \"跑步鞋\"\n",
    "style_in = \"酷炫，潮流\"\n",
    "element_in =\"海龜\"\n",
    "color_in = \"黑， 紅\""
   ]
  },
  {
   "cell_type": "code",
   "execution_count": 17,
   "id": "e39e664f",
   "metadata": {},
   "outputs": [],
   "source": [
    "prompt = topic(topic_in) + style(style_in) + element(element_in) + color(color_in)"
   ]
  },
  {
   "cell_type": "code",
   "execution_count": 18,
   "id": "51cb3149",
   "metadata": {},
   "outputs": [
    {
     "name": "stdout",
     "output_type": "stream",
     "text": [
      "主題： 跑步鞋\n",
      "風格： 酷炫，潮流\n",
      "元素： 海龜\n",
      "配色： 黑， 紅\n",
      "\n"
     ]
    }
   ],
   "source": [
    "print(prompt)"
   ]
  },
  {
   "cell_type": "code",
   "execution_count": null,
   "id": "e47765b1",
   "metadata": {},
   "outputs": [],
   "source": []
  }
 ],
 "metadata": {
  "kernelspec": {
   "display_name": "nthu_ml",
   "language": "python",
   "name": "python3"
  },
  "language_info": {
   "codemirror_mode": {
    "name": "ipython",
    "version": 3
   },
   "file_extension": ".py",
   "mimetype": "text/x-python",
   "name": "python",
   "nbconvert_exporter": "python",
   "pygments_lexer": "ipython3",
   "version": "3.10.15"
  }
 },
 "nbformat": 4,
 "nbformat_minor": 5
}
