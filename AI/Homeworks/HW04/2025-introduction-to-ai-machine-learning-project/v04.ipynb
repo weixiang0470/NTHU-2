{
 "cells": [
  {
   "cell_type": "code",
   "execution_count": null,
   "id": "0cba8511",
   "metadata": {},
   "outputs": [],
   "source": [
    "import pandas as pd\n",
    "from sklearn.model_selection import train_test_split\n",
    "from sklearn.ensemble import RandomForestClassifier, StackingClassifier\n",
    "from xgboost import XGBClassifier\n",
    "from sklearn.linear_model import LogisticRegression\n",
    "from sklearn.metrics import classification_report, confusion_matrix\n",
    "import pandas as pd\n",
    "from mypdata import get_train_xy,resample_xy,get_split,get_c_s_data"
   ]
  },
  {
   "cell_type": "code",
   "execution_count": null,
   "id": "c185a883",
   "metadata": {},
   "outputs": [],
   "source": [
    "df = pd.read_csv(\"train.csv\")\n",
    "df_test = pd.read_csv(\"test.csv\")\n",
    "test_s,test_c = get_c_s_data(df_test)\n",
    "\n",
    "Xo,yo,df2 = get_train_xy(df)\n",
    "s_df,c_df=get_c_s_data(df2)\n",
    "# print(s_df,c_df)\n",
    "Xc,yc = c_df.drop([\"target\"],axis=1),c_df[\"target\"]\n",
    "Xs,ys = s_df.drop([\"target\"],axis=1),s_df[\"target\"]"
   ]
  },
  {
   "cell_type": "code",
   "execution_count": null,
   "id": "f026a29f",
   "metadata": {},
   "outputs": [],
   "source": [
    "print(test_c,Xc)"
   ]
  },
  {
   "cell_type": "code",
   "execution_count": null,
   "id": "d4f422c4",
   "metadata": {},
   "outputs": [],
   "source": [
    "scale_pos_weight_s = (len(ys) - sum(ys)) / sum(ys)\n",
    "scale_pos_weight_c = (len(yc) - sum(yc)) / sum(yc)\n",
    "print(\"scale_pos_weight =\", scale_pos_weight_s,scale_pos_weight_c)"
   ]
  },
  {
   "cell_type": "code",
   "execution_count": null,
   "id": "7035a533",
   "metadata": {},
   "outputs": [],
   "source": [
    "Xc_train, Xc_test, yc_train, yc_test = train_test_split(Xc, yc, test_size=0.2, stratify=yc, random_state=42)\n",
    "Xs_train, Xs_test, ys_train, ys_test = train_test_split(Xs, ys, test_size=0.2, stratify=ys, random_state=42)"
   ]
  },
  {
   "cell_type": "code",
   "execution_count": null,
   "id": "201e92ba",
   "metadata": {},
   "outputs": [],
   "source": [
    "print(len(Xc_train),len(yc_train))"
   ]
  },
  {
   "cell_type": "code",
   "execution_count": null,
   "id": "c195d209",
   "metadata": {},
   "outputs": [],
   "source": [
    "# XGBoost 處理連續型\n",
    "xgb_model = XGBClassifier(\n",
    "    n_estimators=300,\n",
    "    max_depth=7,\n",
    "    learning_rate=0.1,\n",
    "    subsample=0.8,\n",
    "    colsample_bytree=0.8,\n",
    "    gamma=0.1,\n",
    "    tree_method='hist',\n",
    "    random_state=42,\n",
    "    scale_pos_weight=scale_pos_weight_c,\n",
    "    use_label_encoder=False,\n",
    "    eval_metric='logloss'\n",
    ")\n",
    "\n",
    "# Random Forest 處理結構化\n",
    "rf_model = RandomForestClassifier(\n",
    "    n_estimators=200,\n",
    "    max_depth=10,\n",
    "    class_weight='balanced',\n",
    "    random_state=42,\n",
    "    n_jobs=-1\n",
    ")\n",
    "\n",
    "xgb_model.fit(Xc, yc)\n",
    "rf_model.fit(Xs, ys)"
   ]
  },
  {
   "cell_type": "code",
   "execution_count": null,
   "id": "1869f28e",
   "metadata": {},
   "outputs": [],
   "source": [
    "# 將模型包成 pipeline\n",
    "from sklearn.pipeline import make_pipeline\n",
    "from sklearn.preprocessing import StandardScaler\n",
    "\n",
    "# Meta 模型使用邏輯回歸\n",
    "meta_model = LogisticRegression(max_iter=1000, class_weight='balanced', random_state=42)\n",
    "\n",
    "# # 用 stacking 將兩個模型整合\n",
    "# stacked_model = StackingClassifier(\n",
    "#     estimators=[\n",
    "#         ('xgb', xgb_model),\n",
    "#         ('rf', rf_model)\n",
    "#     ],\n",
    "#     final_estimator=meta_model,\n",
    "#     passthrough=True,\n",
    "#     n_jobs=-1\n",
    "# )\n",
    "\n",
    "# 用 base 模型對 test 資料做預測（這是給 meta model 的輸入）\n",
    "cont_pred_train = xgb_model.predict_proba(Xc)[:, 1]\n",
    "struct_pred_train = rf_model.predict_proba(Xs)[:, 1]\n",
    "\n",
    "# meta model 訓練\n",
    "meta_X_train = pd.DataFrame({\n",
    "    'cont_pred': cont_pred_train,\n",
    "    'struct_pred': struct_pred_train\n",
    "})"
   ]
  },
  {
   "cell_type": "code",
   "execution_count": null,
   "id": "2e4498be",
   "metadata": {},
   "outputs": [],
   "source": [
    "print((yc == ys).all())"
   ]
  },
  {
   "cell_type": "code",
   "execution_count": null,
   "id": "2227dd40",
   "metadata": {},
   "outputs": [],
   "source": [
    "meta_model = LogisticRegression()\n",
    "meta_model.fit(meta_X_train, yc)"
   ]
  },
  {
   "cell_type": "code",
   "execution_count": null,
   "id": "c3f63bdd",
   "metadata": {},
   "outputs": [],
   "source": [
    "print(test_s)"
   ]
  },
  {
   "cell_type": "code",
   "execution_count": null,
   "id": "afc41fab",
   "metadata": {},
   "outputs": [],
   "source": [
    "cont_pred_test = xgb_model.predict_proba(test_c)[:, 1]\n",
    "struct_pred_test = rf_model.predict_proba(test_s)[:, 1]\n",
    "\n",
    "meta_X_test = pd.DataFrame({\n",
    "    'cont_pred': cont_pred_test,\n",
    "    'struct_pred': struct_pred_test\n",
    "})"
   ]
  },
  {
   "cell_type": "code",
   "execution_count": null,
   "id": "2f84c01e",
   "metadata": {},
   "outputs": [],
   "source": [
    "final_pred = meta_model.predict(meta_X_test)"
   ]
  },
  {
   "cell_type": "code",
   "execution_count": null,
   "id": "fb4c0962",
   "metadata": {},
   "outputs": [],
   "source": [
    "results1 = pd.DataFrame({\n",
    "    \"index\": df_test[\"index\"],  # 保留原始 ID\n",
    "    \"target\": final_pred\n",
    "})\n",
    "\n",
    "# results2 = pd.DataFrame({\n",
    "#     \"index\": df_test[\"index\"],  # 保留原始 ID\n",
    "#     \"target\": y2_pred\n",
    "# })\n",
    "\n",
    "results1.to_csv(\"predictionsxx.csv\", index=False)"
   ]
  },
  {
   "cell_type": "code",
   "execution_count": null,
   "id": "a7293b75",
   "metadata": {},
   "outputs": [],
   "source": [
    "# 合併連續與結構化資料\n",
    "from numpy import concatenate\n",
    "\n",
    "X_train_full = pd.concat([Xc_train.reset_index(drop=True), Xs_train.reset_index(drop=True)], axis=1)\n",
    "X_test_full = pd.concat([Xc_test.reset_index(drop=True), Xs_test.reset_index(drop=True)], axis=1)\n",
    "\n",
    "# 訓練模型\n",
    "stacked_model.fit(X_train_full, y_train)\n",
    "\n",
    "# 預測\n",
    "y_pred = stacked_model.predict(X_test_full)\n",
    "print(confusion_matrix(y_test, y_pred))\n",
    "print(classification_report(y_test, y_pred))\n"
   ]
  },
  {
   "cell_type": "code",
   "execution_count": null,
   "id": "3b27dac3",
   "metadata": {},
   "outputs": [],
   "source": []
  }
 ],
 "metadata": {
  "kernelspec": {
   "display_name": "nthu_ml",
   "language": "python",
   "name": "python3"
  },
  "language_info": {
   "codemirror_mode": {
    "name": "ipython",
    "version": 3
   },
   "file_extension": ".py",
   "mimetype": "text/x-python",
   "name": "python",
   "nbconvert_exporter": "python",
   "pygments_lexer": "ipython3",
   "version": "3.10.15"
  }
 },
 "nbformat": 4,
 "nbformat_minor": 5
}
