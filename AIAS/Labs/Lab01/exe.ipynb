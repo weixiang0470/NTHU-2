{
 "cells": [
  {
   "cell_type": "markdown",
   "metadata": {},
   "source": [
    "# Exercise 1: 4x4 submatrix sum\n",
    "\n",
    "Implement a process_books function that:\n",
    "\n",
    "Implement the validate_submatrix_sum function. Given a 4x4 two-dimensional list (matrix) and a target sum, check if the sum of elements in each 2x2 sub-matrix equals the target sum. The function returns True if all sub-matrices meet the target sum, otherwise False.\n",
    "\n",
    "Remark: The submatrix includes all parts of the matrix, including the central 2x2 submatrix.\n",
    "Expected Output\n",
    "\n",
    "For matrix1 and target_sum1 = 6, the expected output should be True, as each 2x2 sub-matrix sums up to 6.\n",
    "For matrix2 and target_sum2 = 6, the expected output should be False, as not all 2x2 sub-matrices sum up to 6."
   ]
  },
  {
   "cell_type": "code",
   "execution_count": 4,
   "metadata": {},
   "outputs": [
    {
     "name": "stdout",
     "output_type": "stream",
     "text": [
      "True\n",
      "False\n"
     ]
    }
   ],
   "source": [
    "def validate_submatrix_sum(matrix, target_sum):\n",
    "    n,m=len(matrix),len(matrix[0])\n",
    "    for i in range(n-1):\n",
    "        for j in range(m-1):\n",
    "            tmp = matrix[i][j]+matrix[i][j+1]+matrix[i+1][j]+matrix[i+1][j+1]\n",
    "            if tmp != target_sum: return False\n",
    "    return True  # Your implementation\n",
    "\n",
    "if __name__ == \"__main__\":\n",
    "    matrix1 = [\n",
    "        [1, 2, 1, 2],\n",
    "        [2, 1, 2, 1],\n",
    "        [1, 2, 1, 2],\n",
    "        [2, 1, 2, 1]\n",
    "    ]\n",
    "\n",
    "    target_sum1 = 6\n",
    "\n",
    "    matrix2 = [\n",
    "        [1, 1, 2, 2],\n",
    "        [1, 1, 2, 2],\n",
    "        [2, 2, 1, 1],\n",
    "        [2, 2, 1, 1]\n",
    "    ]\n",
    "    target_sum2 = 6\n",
    "\n",
    "    print(validate_submatrix_sum(matrix1, target_sum1))  # Should output True\n",
    "    print(validate_submatrix_sum(matrix2, target_sum2))  # Should output False"
   ]
  },
  {
   "cell_type": "markdown",
   "metadata": {},
   "source": [
    "# Exercise 2: Grouping Student Submissions\n",
    "\n",
    "Implement a group_by_students function that:\n",
    "\n",
    "Accepts a dictionary containing the student name for each submitted file name.\n",
    "Returns a dictionary containing a list of submitted file names for each student in any order.\n",
    "For example, in the following program, the group_by_students() function will return:\n",
    "Expected Output:\n",
    "\n",
    "{‘John’: [‘hw1_Code_John.py’, ‘hw1_John.txt’], ‘Mary’: [‘hw1_Mary.txt’, ‘hw2_Mary.txt’]}"
   ]
  },
  {
   "cell_type": "code",
   "execution_count": 6,
   "metadata": {},
   "outputs": [
    {
     "name": "stdout",
     "output_type": "stream",
     "text": [
      "{'Mary': ['hw1_Mary.txt', 'hw2_Mary.txt'], 'John': ['hw1_Code_John.py', 'hw1_John.txt']}\n"
     ]
    }
   ],
   "source": [
    "def group_by_students(files):\n",
    "    new_files = {}\n",
    "    for hwname,name in files.items():\n",
    "        if name in new_files:\n",
    "            new_files[name].append(hwname)\n",
    "        else:\n",
    "            new_files[name] = [hwname]\n",
    "\n",
    "    return new_files\n",
    "\n",
    "if __name__ == \"__main__\":    \n",
    "    files = {\n",
    "        'hw1_Mary.txt': 'Mary',\n",
    "        'hw1_Code_John.py': 'John',\n",
    "        'hw1_John.txt': 'John',\n",
    "        'hw2_Mary.txt': 'Mary'\n",
    "    }   \n",
    "    print(group_by_students(files))"
   ]
  },
  {
   "cell_type": "markdown",
   "metadata": {},
   "source": [
    "# Exercise 3: Finding Unique Fruits\n",
    "\n",
    "Implement the unique_fruit method. When passed two lists of fruits, it will return a list containing the fruits that appear in either or both lists. The returned list should have no duplicates. In this example, if your function is correctly implemented, you should get the following output:\n",
    "\n",
    "[‘Pineapple’, ‘Grape’, ‘Apple’, ‘Banana’, ‘Orange’]"
   ]
  },
  {
   "cell_type": "code",
   "execution_count": 14,
   "metadata": {},
   "outputs": [
    {
     "name": "stdout",
     "output_type": "stream",
     "text": [
      "['Grape', 'Pineapple', 'Apple', 'Banana', 'Orange']\n"
     ]
    }
   ],
   "source": [
    "def unique_fruit(list1, list2):\n",
    "    new_set = set()\n",
    "    for fruit in list1:\n",
    "        new_set.add(fruit)\n",
    "    for fruit in list2:\n",
    "        # print(new_list)\n",
    "        new_set.add(fruit)\n",
    "        # print(new_list)\n",
    "    new_list = []\n",
    "    for x in new_set:\n",
    "        new_list.append(x)\n",
    "    return new_list\n",
    "\n",
    "if __name__ == \"__main__\":\n",
    "    list1 = [\"Apple\", \"Banana\", \"Orange\"]\n",
    "    list2 = [\"Grape\", \"Apple\", \"Pineapple\", \"Orange\"]\n",
    "    print(unique_fruit(list1, list2))"
   ]
  },
  {
   "cell_type": "markdown",
   "metadata": {},
   "source": [
    "# Exercise 4: Select Specific Elements from an Array\n",
    "\n",
    "Implement the select_elements function. It should select and return elements from a 2D numpy array, specified by a list of tuple indices. For the provided array and indices, the expected output is:\n",
    "\n",
    "Expected output: [2 5 7]"
   ]
  },
  {
   "cell_type": "code",
   "execution_count": 40,
   "metadata": {},
   "outputs": [
    {
     "name": "stdout",
     "output_type": "stream",
     "text": [
      "(0, 1, 2) (1, 1, 0)\n",
      "[2 5 7]\n"
     ]
    }
   ],
   "source": [
    "import numpy as np\n",
    "\n",
    "def select_elements(arr, indices):\n",
    "    # new_arr = []\n",
    "    # for x,y in indices:\n",
    "    #     # print(arr[x][y])\n",
    "    #     new_arr.append(arr[x][y])\n",
    "    r,c = zip(*indices)\n",
    "    return arr[r,c]\n",
    "\n",
    "if __name__ == \"__main__\":\n",
    "    arr = np.array([[1, 2, 3], [4, 5, 6], [7, 8, 9]])\n",
    "    indices = [(0, 1), (1, 1), (2, 0)]\n",
    "    print(select_elements(arr, indices))"
   ]
  },
  {
   "cell_type": "markdown",
   "metadata": {},
   "source": [
    "# Exercise 5: Euclidean Distance Between Points\n",
    "\n",
    "Implement the euclidean_distance function that calculates the Euclidean distance between two points in 3D space. The points are represented as numpy arrays. The expected output for the provided points is shown below:\n",
    "\n",
    "Expected output: 5.196152422706632"
   ]
  },
  {
   "cell_type": "code",
   "execution_count": 52,
   "metadata": {},
   "outputs": [
    {
     "name": "stdout",
     "output_type": "stream",
     "text": [
      "5.196152422706632\n"
     ]
    }
   ],
   "source": [
    "import numpy as np\n",
    "\n",
    "def euclidean_distance(point1, point2):\n",
    "\n",
    "    return np.sqrt(np.sum((point1 - point2)**2))\n",
    "\n",
    "if __name__ == \"__main__\":\n",
    "    point1 = np.array([1, 2, 3])\n",
    "    point2 = np.array([4, 5, 6])\n",
    "    print(euclidean_distance(point1, point2))"
   ]
  },
  {
   "cell_type": "markdown",
   "metadata": {},
   "source": [
    "# Exercise 6: Standardize Array Columns\n",
    "\n",
    "Implement the standardize_columns function that standardizes each column of a 2D numpy array. Standardization means converting the column values so that each column has a mean of 0 and a standard deviation of 1. The function should return the standardized array.\n",
    "\n",
    "The expected output for the provided input array is shown below:\n",
    "```\n",
    "[[-1.22474487 -1.22474487 -1.22474487]\n",
    " [ 0.          0.          0.        ]\n",
    " [ 1.22474487  1.22474487  1.22474487]]\n",
    " ```"
   ]
  },
  {
   "cell_type": "code",
   "execution_count": 57,
   "metadata": {},
   "outputs": [
    {
     "name": "stdout",
     "output_type": "stream",
     "text": [
      "[[-1.22474487 -1.22474487 -1.22474487]\n",
      " [ 0.          0.          0.        ]\n",
      " [ 1.22474487  1.22474487  1.22474487]]\n"
     ]
    }
   ],
   "source": [
    "import numpy as np\n",
    "\n",
    "def standardize_columns(arr):\n",
    "    mean = np.sum(arr,axis=0)/ len(arr)\n",
    "    # print(mean)\n",
    "    std = np.sqrt(np.sum((arr-mean)**2,axis=0)/len(arr))\n",
    "    # print(std)\n",
    "    return (arr - mean) / std\n",
    "\n",
    "if __name__ == \"__main__\":\n",
    "    arr = np.array([[1, 2, 3], [4, 5, 6], [7, 8, 9]])\n",
    "    print(standardize_columns(arr))"
   ]
  },
  {
   "cell_type": "code",
   "execution_count": null,
   "metadata": {},
   "outputs": [],
   "source": []
  }
 ],
 "metadata": {
  "kernelspec": {
   "display_name": "nthu_ml",
   "language": "python",
   "name": "python3"
  },
  "language_info": {
   "codemirror_mode": {
    "name": "ipython",
    "version": 3
   },
   "file_extension": ".py",
   "mimetype": "text/x-python",
   "name": "python",
   "nbconvert_exporter": "python",
   "pygments_lexer": "ipython3",
   "version": "3.10.15"
  }
 },
 "nbformat": 4,
 "nbformat_minor": 2
}
