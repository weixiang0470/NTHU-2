{
 "cells": [
  {
   "cell_type": "markdown",
   "metadata": {},
   "source": [
    "## HW 1-1-1 Reverse Bits"
   ]
  },
  {
   "cell_type": "markdown",
   "metadata": {},
   "source": [
    "Example 1:\n",
    "\n",
    "Input: n = 00000010100101000001111010011100\n",
    "\n",
    "Output:\n",
    "964176192 (00111001011110000010100101000000) Explanation: The input binary string 00000010100101000001111010011100 represents the unsigned integer 43261596, so return 964176192 which its binary representation is\n",
    "00111001011110000010100101000000.\n",
    "\n",
    "Example 2:\n",
    "\n",
    "Input: n = 11111111111111111111111111111101\n",
    "\n",
    "Output: 3221225471 (10111111111111111111111111111111) Explanation: The input binary string 111111111111111l1111llllllllll01 represents the unsigned integer 4294967293, so return 3221225471 which its binary representation is\n",
    "10111111111111111111111111111111."
   ]
  },
  {
   "cell_type": "code",
   "execution_count": null,
   "metadata": {},
   "outputs": [],
   "source": [
    "class Solution:\n",
    "    # @param n, an integer\n",
    "    # @return an integer\n",
    "    def reverseBits(self, n):\n",
    "        res =0 \n",
    "        for i in range(32):\n",
    "            bit = n & 1               # get the last bit of n\n",
    "            res = (res << 1) | bit    # left shift 1 bit of res and do or operation with bit, making last bit of n put into res\n",
    "            n>>=1                     # right shit 1 bit of n, to get the next bit\n",
    "        return res"
   ]
  },
  {
   "cell_type": "markdown",
   "metadata": {},
   "source": [
    "# HW 1-1-2 Valid Sudoku"
   ]
  },
  {
   "cell_type": "code",
   "execution_count": null,
   "metadata": {},
   "outputs": [],
   "source": [
    "class Solution(object):\n",
    "    def isValidSudoku(self, board):\n",
    "        row = [set() for x in range(9)]     # To check each row\n",
    "        col = [set() for x in range(9)]     # To check each column\n",
    "        boxes = [set() for x in range(9)]   # To check each box\n",
    "\n",
    "        for r in range(9):\n",
    "            for c in range(9):\n",
    "                b = (r//3) * 3 + (c//3)             # box index = floor(row num / 3) * 3 + floor(column num / 3)\n",
    "                if board[r][c] == \".\":continue      # If is \".\" skip\n",
    "                if board[r][c] in row[r] or board[r][c] in col[c] or \\\n",
    "                    board[r][c] in boxes[b]:        # If same number exists in row, column, or box => not valid\n",
    "                    return False\n",
    "                row[r].add(board[r][c])             # Add into corresponding row\n",
    "                col[c].add(board[r][c])             # Add into corresponding column\n",
    "                boxes[b].add(board[r][c])           # Add into corresponding box\n",
    "        return True                                 # Go through all of input => is valid "
   ]
  }
 ],
 "metadata": {
  "kernelspec": {
   "display_name": "nthu_ml",
   "language": "python",
   "name": "python3"
  },
  "language_info": {
   "name": "python",
   "version": "3.10.15"
  }
 },
 "nbformat": 4,
 "nbformat_minor": 2
}
